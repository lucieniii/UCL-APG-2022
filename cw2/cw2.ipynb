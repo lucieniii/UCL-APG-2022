{
 "cells": [
  {
   "cell_type": "code",
   "execution_count": 62,
   "metadata": {},
   "outputs": [],
   "source": [
    "import sys, os, time\n",
    "\n",
    "import open3d as o3d\n",
    "import trimesh\n",
    "\n",
    "import cv2\n",
    "\n",
    "import scipy as sp\n",
    "from scipy.sparse.linalg import eigs\n",
    "from scipy.sparse import csr_matrix, identity\n",
    "from scipy.sparse.linalg import spsolve\n",
    "\n",
    "import numpy as np\n",
    "\n",
    "import matplotlib.pyplot as plt\n",
    "\n",
    "from tqdm import tqdm\n",
    "\n",
    "%matplotlib inline"
   ]
  },
  {
   "cell_type": "code",
   "execution_count": 63,
   "metadata": {},
   "outputs": [],
   "source": [
    "def show_mesh(plys):\n",
    "    o3d.visualization.draw_geometries(plys)\n",
    "def save_mesh(path, mesh):\n",
    "    o3d.io.write_triangle_mesh(path, mesh)"
   ]
  },
  {
   "attachments": {},
   "cell_type": "markdown",
   "metadata": {},
   "source": [
    "## 1 Uniform Laplace"
   ]
  },
  {
   "cell_type": "code",
   "execution_count": 64,
   "metadata": {},
   "outputs": [],
   "source": [
    "# Load a mesh\n",
    "mesh = trimesh.load('meshes/curvatures/lilium_s.obj')"
   ]
  },
  {
   "attachments": {},
   "cell_type": "markdown",
   "metadata": {},
   "source": [
    "### Mean curvature"
   ]
  },
  {
   "attachments": {},
   "cell_type": "markdown",
   "metadata": {},
   "source": [
    "Realize uniform Laplace-Beltrami operator:\n",
    "\n",
    "$\\Delta f(v_i)=\\frac{1}{|\\mathcal{N}_1(v_i)|}\\sum\\limits_{v_j\\in\\mathcal{N}_1(v_i)}(f_j-f_i)$"
   ]
  },
  {
   "cell_type": "code",
   "execution_count": 65,
   "metadata": {},
   "outputs": [],
   "source": [
    "def uniform_laplacian(vertices, n1):\n",
    "    \"\"\"\n",
    "    Uniform Laplace-Beltrami Operator\n",
    "\n",
    "    Args:\n",
    "        vertices:   (n, 3) float, the vertices of the mesh.\n",
    "        n1:         (n,) int, The one-ring neighbors of each vertex of the mesh.\n",
    "    \n",
    "    Returns:\n",
    "        lap:        (n, 3) float, the result after applying \n",
    "                    Uniform Laplace-Beltrami Operator to each vertex.\n",
    "    \"\"\"\n",
    "\n",
    "    lap = np.zeros(vertices.shape)\n",
    "    for i, n in enumerate(n1):\n",
    "        vn = vertices[n]\n",
    "        lap[i] = np.sum(vn - vertices[i], axis=0) / len(n)\n",
    "        \n",
    "    return lap"
   ]
  },
  {
   "attachments": {},
   "cell_type": "markdown",
   "metadata": {},
   "source": [
    "Compute mean curvature $H$ using uniform Laplace-Beltrami operator.\n",
    "\n",
    "$H(v_i)=\\frac{1}{2}||\\Delta \\mathbf{x}_i||$, where $\\mathbf{x}(v_i)=(x_i, y_i, z_i)$ is the coordinate function."
   ]
  },
  {
   "cell_type": "code",
   "execution_count": 66,
   "metadata": {},
   "outputs": [],
   "source": [
    "def mean_curvature(mesh):\n",
    "    \"\"\"\n",
    "    Calculate mean curvature H using uniform Laplace-Beltrami operator.\n",
    "\n",
    "    Args:\n",
    "        mesh:       Trimesh, the data of mesh loaded by Trimesh.\n",
    "    \n",
    "    Returns:\n",
    "        H:          (n,) float, mean curvature on each vertex.\n",
    "    \"\"\"\n",
    "\n",
    "    ul = uniform_laplacian(mesh.vertices, mesh.vertex_neighbors)\n",
    "    H = 0.5 * np.linalg.norm(ul, axis=1)\n",
    "    \n",
    "    return H"
   ]
  },
  {
   "attachments": {},
   "cell_type": "markdown",
   "metadata": {},
   "source": [
    "### Gaussian curvature"
   ]
  },
  {
   "attachments": {},
   "cell_type": "markdown",
   "metadata": {},
   "source": [
    "Compute Gaussian curvature $K(v_i)$\n",
    "\n",
    "$K(v_i)=\\frac{1}{A_i}(2\\pi-\\sum\\limits_{v_j\\in\\mathcal{N}_1(v_i)}\\theta_j)$\n",
    "\n",
    "<img src=\"report/imgs/1.png\" alt=\"1\" style=\"zoom:66%;\" />"
   ]
  },
  {
   "attachments": {},
   "cell_type": "markdown",
   "metadata": {},
   "source": [
    "Compute the sum of $\\theta_j$ of each vertex:\n",
    "\n",
    "Traverse each face of the mesh, accumulate the angles on each vertex to the sum of theta corresponding to each vertex."
   ]
  },
  {
   "cell_type": "code",
   "execution_count": 67,
   "metadata": {},
   "outputs": [],
   "source": [
    "def vertex_theta(mesh):\n",
    "    \"\"\"\n",
    "    Compute the sum of theta_j of each vertex.\n",
    "\n",
    "    Args:\n",
    "        mesh:       Trimesh, the data of mesh loaded by Trimesh.\n",
    "    \n",
    "    Returns:\n",
    "        thetas:     (n,) float, sum of theta_j of each vertex.\n",
    "    \"\"\"\n",
    "\n",
    "    # Use it the accumulate thetas of each vertex.\n",
    "    thetas = np.zeros((mesh.vertices.shape[0],))\n",
    "\n",
    "    # Traverse each face of the mesh\n",
    "    for face, angles in zip(mesh.faces, mesh.face_angles):\n",
    "        # Accumulate the angles\n",
    "        thetas[face] += angles\n",
    "\n",
    "    return thetas"
   ]
  },
  {
   "cell_type": "code",
   "execution_count": 68,
   "metadata": {},
   "outputs": [],
   "source": [
    "# Helper functions\n",
    "\n",
    "def mid_point(point1, point2):\n",
    "    # Compute the midpoint of two points.\n",
    "    return 0.5 * (point1 + point2)\n",
    "\n",
    "def tri_area(a, b, c):\n",
    "    # Use cross product to calculate the area of a triangle \n",
    "    # determined by three vertices.\n",
    "    return 0.5 * np.linalg.norm(np.cross(b - a, c - a))\n",
    "\n",
    "def tri_center(a, b, c):\n",
    "    # Compute triangle barycenter.\n",
    "    return (a + b + c) / 3."
   ]
  },
  {
   "attachments": {},
   "cell_type": "markdown",
   "metadata": {},
   "source": [
    "<img src=\"report/imgs/2.png\" alt=\"2\" style=\"zoom:66%;\" />\n",
    "\n",
    "My code use barycentric cell as $A_i$ (although the picture above represents Mixed Voronoi Cell).\n",
    "\n",
    "For each vertex on each face of the mesh, compute the area of the area connected by the vertex, the midpoints and the barycenter, as the red region in the image above. Then accumulate it into the $A_i$ correspoding to the vertex."
   ]
  },
  {
   "cell_type": "code",
   "execution_count": 69,
   "metadata": {},
   "outputs": [],
   "source": [
    "def cal_part_Ai(xi, xj, xk):\n",
    "    \"\"\"\n",
    "    Compute the area of part of the averaging region A_i of each vertex.\n",
    "\n",
    "    Args:\n",
    "        xi:         (3,) float, the coordinate of one vertex.\n",
    "        xj, xk:     (3,) float, the coordinates of two vertices\n",
    "                    which can form a face on the mesh.\n",
    "    \n",
    "    Returns:\n",
    "        part_Ai:    float, the area of the part of A_i corresponding to xi.\n",
    "    \"\"\"\n",
    "\n",
    "    mid = tri_center(xi, xj, xk)\n",
    "    mij = mid_point(xi, xj)\n",
    "    mik = mid_point(xi, xk)\n",
    "    part_Ai = tri_area(xi, mid, mij) + tri_area(xi, mid, mik)\n",
    "    \n",
    "    return part_Ai"
   ]
  },
  {
   "attachments": {},
   "cell_type": "markdown",
   "metadata": {},
   "source": [
    "<img src=\"report/imgs/4.png\" alt=\"4\" style=\"zoom:66%;\" />\n",
    "\n",
    "Accumulate part of $A_i$ of vertices into the $A_i$ correspoding to the vertices to compute the area of Barycentric cell."
   ]
  },
  {
   "cell_type": "code",
   "execution_count": 70,
   "metadata": {},
   "outputs": [],
   "source": [
    "# Convenient for indexing\n",
    "ia = [0, 1, 2]\n",
    "ib = [1, 0, 2]\n",
    "ic = [2, 0, 1]\n",
    "\n",
    "def vertex_area(mesh):\n",
    "    \"\"\"\n",
    "    Compute the area of the averaging region A_i of each vertex.\n",
    "\n",
    "    Args:\n",
    "        mesh:       Trimesh, the data of mesh loaded by Trimesh.\n",
    "    \n",
    "    Returns:\n",
    "        A:          (n,) float, the area of A_i corresponding to each vertices.\n",
    "    \"\"\"\n",
    "\n",
    "    A = np.zeros((mesh.vertices.shape[0],))\n",
    "    vertices = mesh.vertices\n",
    "    for face in mesh.faces:\n",
    "        A[face] += np.array([\n",
    "            cal_part_Ai(*vertices[face[ia]]),\n",
    "            cal_part_Ai(*vertices[face[ib]]),\n",
    "            cal_part_Ai(*vertices[face[ic]]),\n",
    "        ])\n",
    "    \n",
    "    return A"
   ]
  },
  {
   "attachments": {},
   "cell_type": "markdown",
   "metadata": {},
   "source": [
    "Compute Gaussian curvature $K(v_i)$\n",
    "\n",
    "$K(v_i)=\\frac{1}{A_i}(2\\pi-\\sum\\limits_{v_j\\in\\mathcal{N}_1(v_i)}\\theta_j)$"
   ]
  },
  {
   "cell_type": "code",
   "execution_count": 71,
   "metadata": {},
   "outputs": [],
   "source": [
    "def gaussian_curvature(mesh):\n",
    "    \"\"\"\n",
    "    Compute Gaussian curvature K of each vertices\n",
    "\n",
    "    Args:\n",
    "        mesh:       Trimesh, the data of mesh loaded by Trimesh.\n",
    "    \n",
    "    Returns:\n",
    "        K:          (n,) float, gaussian curvature on each vertex.\n",
    "    \"\"\"\n",
    "    thetas = vertex_theta(mesh)\n",
    "    A = vertex_area(mesh)\n",
    "    K = (2 * np.pi - thetas) / A\n",
    "    return K"
   ]
  },
  {
   "attachments": {},
   "cell_type": "markdown",
   "metadata": {},
   "source": [
    "Color of each vertex according to the curvature.\n",
    "\n",
    "![1](report/plots/1.png)"
   ]
  },
  {
   "cell_type": "code",
   "execution_count": 72,
   "metadata": {},
   "outputs": [],
   "source": [
    "def color_vertices_by_curvature(C, bins):\n",
    "    \"\"\"\n",
    "    Compute the color of each vertex according to the curvature.\n",
    "\n",
    "    Args:\n",
    "        C:          (n,) float, the curvatures of vertices.\n",
    "        bins:       int, the function use Histogram Equalization to enhance\n",
    "                    the contrast of the vertices color. Lager bins means \n",
    "                    more homogeneous normalisation.\n",
    "    \n",
    "    Returns:\n",
    "        c:          (n, 3) float, the rgb colors of vertices\n",
    "    \"\"\"\n",
    "\n",
    "    # Copy the curvature to prevent altering the origin curvature.\n",
    "    a = C.copy()\n",
    "\n",
    "    # Normalize curvature to [0, 1]\n",
    "    a -= np.min(a)\n",
    "    a /= np.max(a)\n",
    "\n",
    "    # Histogram Equalization\n",
    "    hist, bins = np.histogram(a, bins, [0, 1])\n",
    "    cdf = hist.cumsum()\n",
    "    cdf = cdf / cdf[-1]\n",
    "    a = np.interp(a, bins[:-1], cdf)\n",
    "\n",
    "    # Fisrt compute the HSV colors by normalized curvatures.\n",
    "    a = 1 - a\n",
    "    # Saturation and Value are set to 255, Hue is determined by the curvature.\n",
    "    b = np.vstack((a * 120, np.ones(a.shape) * 255, np.ones(a.shape) * 255)).T\n",
    "    b = b.reshape((b.shape[0], 1, 3)).astype(np.uint8)\n",
    "\n",
    "    # Convert HSV colors to RGB colors.\n",
    "    c = cv2.cvtColor(b, cv2.COLOR_HSV2RGB)\n",
    "    c = c.reshape((c.shape[0], 3)).astype(np.float32)\n",
    "    c /= 255.\n",
    "    \n",
    "    return c"
   ]
  },
  {
   "cell_type": "code",
   "execution_count": 73,
   "metadata": {},
   "outputs": [],
   "source": [
    "# Helper function\n",
    "def save_mesh_with_curvature(mesh, C, file_name, bins):\n",
    "    o3d_mesh = mesh.as_open3d\n",
    "    o3d_mesh.vertex_colors = o3d.utility.Vector3dVector(color_vertices_by_curvature(C, bins))\n",
    "    save_mesh(file_name, o3d_mesh)"
   ]
  },
  {
   "attachments": {},
   "cell_type": "markdown",
   "metadata": {},
   "source": [
    "Resulting meshes saved in `res/curvature`"
   ]
  },
  {
   "cell_type": "code",
   "execution_count": 74,
   "metadata": {},
   "outputs": [],
   "source": [
    "H = mean_curvature(mesh)\n",
    "K = gaussian_curvature(mesh)\n",
    "save_mesh_with_curvature(mesh, H, 'res/curvature/H_lilium_s.obj', 15)\n",
    "save_mesh_with_curvature(mesh, K, 'res/curvature/K_lilium_s.obj', 2000) "
   ]
  },
  {
   "attachments": {},
   "cell_type": "markdown",
   "metadata": {},
   "source": [
    "## 2 First and Second Fundamental forms"
   ]
  },
  {
   "cell_type": "code",
   "execution_count": 75,
   "metadata": {},
   "outputs": [],
   "source": [
    "# Pre-defined ellipsoid parameters\n",
    "a = 2\n",
    "b = 3\n",
    "c = 4\n",
    "\n",
    "def p_ellipsoid(u, v):\n",
    "    # Coordinate function of the ellipsoid\n",
    "    x = a * np.cos(u) * np.sin(v)\n",
    "    y = b * np.sin(u) * np.sin(v)\n",
    "    z = c * np.cos(v)\n",
    "    return x, y, z\n",
    "\n",
    "def J_ellipsoid(u, v):\n",
    "    # First order differentiation of the coordinate function\n",
    "    x_u = np.array([\n",
    "        -a * np.sin(u) * np.sin(v),\n",
    "        b * np.cos(u) * np.sin(v),\n",
    "        0\n",
    "    ])\n",
    "    x_v = np.array([\n",
    "        a * np.cos(u) * np.cos(v),\n",
    "        b * np.sin(u) * np.cos(v),\n",
    "        -c * np.sin(v)\n",
    "    ])\n",
    "    return x_u, x_v\n",
    "\n",
    "def H_ellipsoid(u, v):\n",
    "    # Second order differentiation of the coordinate function\n",
    "    x_uu = np.array([\n",
    "        -a * np.cos(u) * np.sin(v),\n",
    "        -b * np.sin(u) * np.sin(v),\n",
    "        0\n",
    "    ])\n",
    "    x_uv = np.array([\n",
    "        -a * np.sin(u) * np.cos(v),\n",
    "        b * np.cos(u) * np.cos(v),\n",
    "        0\n",
    "    ])\n",
    "    x_vv = np.array([\n",
    "        -a * np.cos(u) * np.sin(v),\n",
    "        -b * np.sin(u) * np.sin(v),\n",
    "        -c * np.cos(v)\n",
    "    ])\n",
    "    return x_uu, x_uv, x_vv\n",
    "\n",
    "def n_ellipsoid(u, v):\n",
    "    # Normal vector of a specific point on the ellipsoid\n",
    "    x_u, x_v = J_ellipsoid(u, v)\n",
    "    n = np.cross(x_u, x_v)\n",
    "    return n / np.linalg.norm(n)\n",
    "\n",
    "def I_ellipsoid(u, v):\n",
    "    # The first fundamental form of a specific point on the ellipsoid\n",
    "    x_u, x_v = J_ellipsoid(u, v)\n",
    "    E = x_u @ x_u\n",
    "    F = x_u @ x_v\n",
    "    G = x_v @ x_v\n",
    "    return E, F, G\n",
    "\n",
    "def II_ellipsoid(u, v):\n",
    "    # The Second fundamental form of a specific point on the ellipsoid\n",
    "    x_uu, x_uv, x_vv = H_ellipsoid(u, v)\n",
    "    n = n_ellipsoid(u, v)\n",
    "    e = x_uu @ n\n",
    "    f = x_uv @ n\n",
    "    g = x_vv @ n\n",
    "    return e, f, g"
   ]
  },
  {
   "attachments": {},
   "cell_type": "markdown",
   "metadata": {},
   "source": [
    "Compute the normal curvature $\\kappa_n$ at the point $(a,0,0)$."
   ]
  },
  {
   "cell_type": "code",
   "execution_count": 76,
   "metadata": {},
   "outputs": [],
   "source": [
    "def curvature_ellipsoid_at_uv(u_t, v_t):\n",
    "    \n",
    "    # The value of u, v on the point (a, 0, 0)\n",
    "    u = 0\n",
    "    v = np.pi / 2.\n",
    "\n",
    "    E, F, G = I_ellipsoid(u, v)\n",
    "    e, f, g = II_ellipsoid(u, v)\n",
    "\n",
    "    k_n = (e*u_t*u_t + 2*f*u_t*v_t + g*v_t*v_t) / (E*u_t*u_t + 2*F*u_t*v_t + G*v_t*v_t)\n",
    "\n",
    "    return k_n"
   ]
  },
  {
   "attachments": {},
   "cell_type": "markdown",
   "metadata": {},
   "source": [
    "Take unit vectors $\\overline{\\mathbf{t}}$ on the tangent plane at $(a, 0, 0)$, where $\\overline{\\mathbf{t}}=(u_t, v_t), u_t=\\cos(\\theta), v_t=\\sin(\\theta), \\theta\\in[0,2\\pi]$. Compute the curvatures and show the plot."
   ]
  },
  {
   "cell_type": "code",
   "execution_count": 77,
   "metadata": {},
   "outputs": [
    {
     "data": {
      "text/plain": [
       "[<matplotlib.lines.Line2D at 0x1a8ea3190>]"
      ]
     },
     "execution_count": 77,
     "metadata": {},
     "output_type": "execute_result"
    },
    {
     "data": {
      "image/png": "[encoded data removed]",
      "text/plain": [
       "<Figure size 640x480 with 1 Axes>"
      ]
     },
     "metadata": {},
     "output_type": "display_data"
    }
   ],
   "source": [
    "thetas = np.linspace(0, 2 * np.pi, 2**8+1)\n",
    "curvatures = []\n",
    "for theta in thetas:\n",
    "    u_t = np.cos(theta)\n",
    "    v_t = np.sin(theta)\n",
    "    c = curvature_ellipsoid_at_uv(u_t, v_t)\n",
    "    curvatures.append(c)\n",
    "plt.ylabel('Curvature')\n",
    "plt.xlabel('$\\\\theta \\\\ (\\pi)$')\n",
    "plt.plot(thetas / np.pi, curvatures)"
   ]
  },
  {
   "attachments": {},
   "cell_type": "markdown",
   "metadata": {},
   "source": [
    "## 3 Non-uniform (Discrete Laplace-Beltrami)"
   ]
  },
  {
   "attachments": {},
   "cell_type": "markdown",
   "metadata": {},
   "source": [
    "Cotangent weighed Laplace-Beltami operator:\n",
    "\n",
    "$\\Delta f(v_i)=\\frac{1}{2A_i}\\sum\\limits_{v_j\\in\\mathcal{N}_1(v_i)}(\\cot\\alpha_{i, j}+\\cot\\beta_{i, j})(f_j-f_i)$\n",
    "\n",
    "<img src=\"report/imgs/1.png\" alt=\"1\" style=\"zoom:66%;\" />\n",
    "\n"
   ]
  },
  {
   "attachments": {},
   "cell_type": "markdown",
   "metadata": {},
   "source": [
    "Compute the sum of $(\\cot\\alpha_{i, j}+\\cot\\beta_{i, j})(f_j-f_i)$ of each vertex:\n",
    "\n",
    "Traverse each face of the mesh, each angle of each vertex will contribute to the cotangent weight of the other two vertex."
   ]
  },
  {
   "cell_type": "code",
   "execution_count": 78,
   "metadata": {},
   "outputs": [],
   "source": [
    "# Convenient for indexing\n",
    "ij = [[1, 2], [0, 2], [0, 1]]\n",
    "\n",
    "def vertex_cot(mesh):\n",
    "    \"\"\"\n",
    "    Compute the cotangent weight of each vertex.\n",
    "\n",
    "    Args:\n",
    "        mesh:       Trimesh, the data of mesh loaded by Trimesh.\n",
    "    \n",
    "    Returns:\n",
    "        cots:       (n,) float, the cotangent weight of each vertex.\n",
    "    \"\"\"\n",
    "\n",
    "    cots = np.zeros((mesh.vertices.shape))\n",
    "    vertices = mesh.vertices\n",
    "\n",
    "    # Traverse each face of the mesh.\n",
    "    for face, angles in zip(mesh.faces, mesh.face_angles):\n",
    "        # Traverse each vertex of the face.\n",
    "        for i in range(3):\n",
    "            # Compute the cotangent of the angle of the vertex.\n",
    "            cotij = 1. / np.tan(angles[i])\n",
    "            # The difference between the coordinates of the other two vertices.\n",
    "            delta = vertices[face[ij[i][1]]] - vertices[face[ij[i][0]]]\n",
    "            # Make contribution.\n",
    "            cots[face[ij[i]]] += np.array([cotij * delta, -cotij * delta])\n",
    "\n",
    "    return cots"
   ]
  },
  {
   "cell_type": "code",
   "execution_count": 79,
   "metadata": {},
   "outputs": [],
   "source": [
    "def cot_Laplace_Beltrami(mesh):\n",
    "    \"\"\"\n",
    "    Cotangent Laplace-Beltrami Operator\n",
    "\n",
    "    Args:\n",
    "        mesh:       Trimesh, the data of mesh loaded by Trimesh.\n",
    "    \n",
    "    Returns:\n",
    "        clb:        (n, 3) float, the result after applying \n",
    "                    Cotangent Laplace-Beltrami Operator to each vertex.\n",
    "    \"\"\"\n",
    "\n",
    "    cots = vertex_cot(mesh)\n",
    "    A = vertex_area(mesh)\n",
    "    clb = cots / (2. * np.vstack((A, A, A)).T)\n",
    "    \n",
    "    return clb"
   ]
  },
  {
   "cell_type": "code",
   "execution_count": 80,
   "metadata": {},
   "outputs": [],
   "source": [
    "def cot_mean_curvature(mesh):\n",
    "    \"\"\"\n",
    "    Calculate mean curvature H_cot using cotangent discretization.\n",
    "\n",
    "    Args:\n",
    "        mesh:       Trimesh, the data of mesh loaded by Trimesh.\n",
    "    \n",
    "    Returns:\n",
    "        H_cot:          (n,) float, mean curvature on each vertex using cotangent discretization.\n",
    "    \"\"\"\n",
    "\n",
    "    clb = cot_Laplace_Beltrami(mesh)\n",
    "    H_cot = 0.5 * np.linalg.norm(clb, axis=1)\n",
    "    \n",
    "    return H_cot"
   ]
  },
  {
   "attachments": {},
   "cell_type": "markdown",
   "metadata": {},
   "source": [
    "Resulting meshes saved in `res/curvature`"
   ]
  },
  {
   "cell_type": "code",
   "execution_count": 101,
   "metadata": {},
   "outputs": [],
   "source": [
    "H_cot = cot_mean_curvature(mesh)\n",
    "save_mesh_with_curvature(mesh, H_cot, 'res/curvature/H_cot_lilium_s.obj', 40)"
   ]
  },
  {
   "cell_type": "code",
   "execution_count": 102,
   "metadata": {},
   "outputs": [],
   "source": [
    "mesh = trimesh.load('meshes/curvatures/plane.obj')\n",
    "\n",
    "H = mean_curvature(mesh)\n",
    "K = gaussian_curvature(mesh)\n",
    "H_cot = cot_mean_curvature(mesh)\n",
    "save_mesh_with_curvature(mesh, H, 'res/curvature/H_plane.obj', 15)\n",
    "save_mesh_with_curvature(mesh, K, 'res/curvature/K_plane.obj', 2000) \n",
    "save_mesh_with_curvature(mesh, H_cot, 'res/curvature/H_cot_plane.obj', 40)"
   ]
  },
  {
   "attachments": {},
   "cell_type": "markdown",
   "metadata": {},
   "source": [
    "## 4 Modal analysis"
   ]
  },
  {
   "attachments": {},
   "cell_type": "markdown",
   "metadata": {},
   "source": [
    "Compute the matrix of un-uniform Laplace-Beltrami operator:\n",
    "\n",
    "$\\Delta f(v_i)=\\sum\\limits_{v_j\\in\\mathcal{N}_1(v_i)}(f_j-f_i)$"
   ]
  },
  {
   "cell_type": "code",
   "execution_count": 84,
   "metadata": {},
   "outputs": [],
   "source": [
    "def construct_Laplace_Beltrami_matrix(mesh):\n",
    "    \"\"\"\n",
    "    Compute the matrix of un-uniform Laplace-Beltrami operator for a mesh.\n",
    "\n",
    "    Args:\n",
    "        mesh:       Trimesh, the data of mesh loaded by Trimesh.\n",
    "    \n",
    "    Returns:\n",
    "        csr_L:      scipy.sparse.csr_matrix, \n",
    "                    the sparse representation of the un-uniform Laplace-Beltrami matrix \n",
    "    \"\"\"\n",
    "\n",
    "    # To contruct csr_matrix\n",
    "    data = []\n",
    "    indices = []\n",
    "    indptr = [0]\n",
    "\n",
    "    vertices = mesh.vertices\n",
    "    neighbours = mesh.vertex_neighbors\n",
    "    for i, n in enumerate(neighbours):\n",
    "        n_cnt = len(n)\n",
    "        rdata = np.ones((n_cnt + 1,))\n",
    "        rdata[n_cnt] = -n_cnt\n",
    "        rindices = np.zeros((n_cnt + 1,))\n",
    "        rindices[:n_cnt] = np.array(n)\n",
    "        rindices[n_cnt] = i\n",
    "        ri = np.argsort(rindices)\n",
    "        data.extend(rdata[ri].tolist())\n",
    "        indices.extend(rindices[ri].tolist())\n",
    "        indptr.append(indptr[-1] + n_cnt + 1)\n",
    "        \n",
    "    csr_L = csr_matrix((data, indices, indptr), shape=(vertices.shape[0], vertices.shape[0]), dtype=np.float32)\n",
    "\n",
    "    return csr_L"
   ]
  },
  {
   "attachments": {},
   "cell_type": "markdown",
   "metadata": {},
   "source": [
    "Compute mesh reconstruction\n",
    "\n",
    "$\\widetilde{\\mathbf{x}}=\\sum\\limits_{i=1}^{k}\\langle \\mathbf{e}_i, \\mathbf{x}\\rangle \\mathbf{e}_i$, where $\\mathbf{x}$ represents the cooredinate function, and $\\mathbf{e}$ is the eigenvectors of the Laplace-Beltrami matrix."
   ]
  },
  {
   "cell_type": "code",
   "execution_count": 85,
   "metadata": {},
   "outputs": [],
   "source": [
    "def mesh_reconstruction(mesh, k):\n",
    "\n",
    "    # Compute sparse Laplace-Beltrami matrix\n",
    "    csr_L = construct_Laplace_Beltrami_matrix(mesh)\n",
    "\n",
    "    # Compute the k-smallest eigenvalues and their eigenvectors\n",
    "    w, v = eigs(csr_L, k=k, which='SM')\n",
    "    w = w.real\n",
    "    v = v.real\n",
    "\n",
    "    # Copy the origin mesh\n",
    "    smooth_mesh = mesh.copy()\n",
    "\n",
    "    # Get the vertices corrdinates\n",
    "    vertices = np.asarray(smooth_mesh.vertices)\n",
    "\n",
    "    # To store the corrdinates after reconstruction\n",
    "    smooth_vertices = np.zeros(vertices.shape)\n",
    "\n",
    "    # Reconstrction\n",
    "    ef = vertices.T @ v\n",
    "    for ch in range(3):\n",
    "        smooth_vertices[:, ch] = np.sum(np.tile(ef[ch], (vertices.shape[0], 1)) * v, axis=1)\n",
    "    smooth_mesh.vertices = smooth_vertices\n",
    "    \n",
    "    return smooth_mesh"
   ]
  },
  {
   "cell_type": "code",
   "execution_count": 107,
   "metadata": {},
   "outputs": [],
   "source": [
    "# Load a mesh\n",
    "mesh = trimesh.load('meshes/decomposition/armadillo.obj')\n",
    "\n",
    "# Reconstruct mesh\n",
    "k = 1000\n",
    "smooth_mesh = mesh_reconstruction(mesh, k)\n",
    "\n",
    "# Save reconstructed mesh\n",
    "save_mesh('res/reconstruction/armadillo_1000.obj', smooth_mesh.as_open3d)"
   ]
  },
  {
   "cell_type": "code",
   "execution_count": 105,
   "metadata": {},
   "outputs": [],
   "source": [
    "k = 5\n",
    "smooth_mesh = mesh_reconstruction(mesh, k)\n",
    "save_mesh('res/reconstruction/armadillo_5.obj', smooth_mesh.as_open3d)\n",
    "\n",
    "k = 15\n",
    "smooth_mesh = mesh_reconstruction(mesh, k)\n",
    "save_mesh('res/reconstruction/armadillo_15.obj', smooth_mesh.as_open3d)"
   ]
  },
  {
   "attachments": {},
   "cell_type": "markdown",
   "metadata": {},
   "source": [
    "## 5 Explicit Laplacian mesh smoothing"
   ]
  },
  {
   "attachments": {},
   "cell_type": "markdown",
   "metadata": {},
   "source": [
    "Compute the matrix of uniform Laplace-Beltrami operator:\n",
    "\n",
    "$\\Delta f(v_i)=\\frac{1}{|\\mathcal{N}_1(v_i)|}\\sum\\limits_{v_j\\in\\mathcal{N}_1(v_i)}(f_j-f_i)$"
   ]
  },
  {
   "cell_type": "code",
   "execution_count": 90,
   "metadata": {},
   "outputs": [],
   "source": [
    "def construct_uniform_Laplace_matrix(mesh):\n",
    "    \"\"\"\n",
    "    Compute the matrix of uniform Laplace-Beltrami operator for a mesh.\n",
    "\n",
    "    Args:\n",
    "        mesh:       Trimesh, the data of mesh loaded by Trimesh.\n",
    "    \n",
    "    Returns:\n",
    "        csr_L:      scipy.sparse.csr_matrix, \n",
    "                    the sparse representation of the uniform Laplace-Beltrami matrix \n",
    "    \"\"\"\n",
    "\n",
    "    # To contruct csr_matrix\n",
    "    data = []\n",
    "    indices = []\n",
    "    indptr = [0]\n",
    "\n",
    "    vertices = mesh.vertices\n",
    "    neighbours = mesh.vertex_neighbors\n",
    "    for i, n in enumerate(neighbours):\n",
    "        n_cnt = len(n)\n",
    "        rdata = np.ones((n_cnt + 1,)) / n_cnt\n",
    "        rdata[n_cnt] = -1.\n",
    "        rindices = np.zeros((n_cnt + 1,))\n",
    "        rindices[:n_cnt] = np.array(n)\n",
    "        rindices[n_cnt] = i\n",
    "        ri = np.argsort(rindices)\n",
    "        data.extend(rdata[ri].tolist())\n",
    "        indices.extend(rindices[ri].tolist())\n",
    "        indptr.append(indptr[-1] + n_cnt + 1)\n",
    "\n",
    "    csr_L = csr_matrix((data, indices, indptr), shape=(vertices.shape[0], vertices.shape[0]), dtype=np.float32)\n",
    "    \n",
    "    return csr_L"
   ]
  },
  {
   "attachments": {},
   "cell_type": "markdown",
   "metadata": {},
   "source": [
    "Compute Laplacian mesh smoothing:\n",
    "\n",
    "$\\mathbf{x}_{i+1}\\leftarrow\\mathbf{x}_{i}+\\lambda \\mathbf{L}\\mathbf{x}_{i}$, where $\\mathbf{x}$ represents the cooredinate function, $\\mathbf{L}$ is the uniform Laplace-Beltrami matrix and $\\lambda$ is the smoothing speed."
   ]
  },
  {
   "cell_type": "code",
   "execution_count": 96,
   "metadata": {},
   "outputs": [],
   "source": [
    "def explicit_Laplacian_mesh_smoothing(mesh, lam=0.01, t=100):\n",
    "    \"\"\"\n",
    "    Explicit Laplacian mesh smoothing.\n",
    "\n",
    "    Args:\n",
    "        mesh:           Trimesh, the data of mesh loaded by Trimesh.\n",
    "        lam:            float, represents lambda\n",
    "        t:              int, iteration round\n",
    "    \n",
    "    Returns:\n",
    "        smooth_mesh:    Trimesh, smoothed mesh.\n",
    "    \"\"\"\n",
    "\n",
    "    # Copy the original mesh\n",
    "    smooth_mesh = mesh.copy()\n",
    "\n",
    "    # Get the vertices corrdinates\n",
    "    smooth_vertices = np.asarray(mesh.vertices)\n",
    "\n",
    "    # Compute sparse uniform Laplace-Beltrami matrix\n",
    "    csr_uL = construct_uniform_Laplace_matrix(mesh)\n",
    "\n",
    "    # Iterate to smooth the mesh.\n",
    "    for _ in tqdm(range(t)):\n",
    "        smooth_vertices = smooth_vertices + lam * csr_uL @ smooth_vertices\n",
    "    \n",
    "    smooth_mesh.vertices = smooth_vertices\n",
    "    \n",
    "    return smooth_mesh"
   ]
  },
  {
   "cell_type": "code",
   "execution_count": 126,
   "metadata": {},
   "outputs": [
    {
     "name": "stderr",
     "output_type": "stream",
     "text": [
      "100%|██████████| 100/100 [00:00<00:00, 3493.22it/s]\n"
     ]
    }
   ],
   "source": [
    "mesh = trimesh.load('meshes/smoothing/fandisk_ns.obj')\n",
    "smooth_mesh = explicit_Laplacian_mesh_smoothing(mesh, lam=0.05, t=100)\n",
    "save_mesh('res/smoothing/explict/fandisk_ns_explict_laplacian_005.obj', smooth_mesh.as_open3d)"
   ]
  },
  {
   "cell_type": "code",
   "execution_count": 127,
   "metadata": {},
   "outputs": [
    {
     "name": "stderr",
     "output_type": "stream",
     "text": [
      "100%|██████████| 100/100 [00:00<00:00, 3120.62it/s]\n",
      "100%|██████████| 100/100 [00:00<00:00, 3383.43it/s]\n",
      "100%|██████████| 100/100 [00:00<00:00, 3267.89it/s]\n",
      "100%|██████████| 100/100 [00:00<00:00, 3499.57it/s]\n"
     ]
    }
   ],
   "source": [
    "smooth_mesh = explicit_Laplacian_mesh_smoothing(mesh, lam=0.01, t=100)\n",
    "save_mesh('res/smoothing/explict/fandisk_ns_explict_laplacian_001.obj', smooth_mesh.as_open3d)\n",
    "\n",
    "smooth_mesh = explicit_Laplacian_mesh_smoothing(mesh, lam=0.1, t=100)\n",
    "save_mesh('res/smoothing/explict/fandisk_ns_explict_laplacian_01.obj', smooth_mesh.as_open3d)\n",
    "\n",
    "smooth_mesh = explicit_Laplacian_mesh_smoothing(mesh, lam=1, t=100)\n",
    "save_mesh('res/smoothing/explict/fandisk_ns_explict_laplacian_1.obj', smooth_mesh.as_open3d)\n",
    "\n",
    "smooth_mesh = explicit_Laplacian_mesh_smoothing(mesh, lam=1.5, t=100)\n",
    "save_mesh('res/smoothing/explict/fandisk_ns_explict_laplacian_1_5.obj', smooth_mesh.as_open3d)"
   ]
  },
  {
   "cell_type": "code",
   "execution_count": 98,
   "metadata": {},
   "outputs": [],
   "source": [
    "H_sm = mean_curvature(smooth_mesh)\n",
    "save_mesh_with_curvature(smooth_mesh, H_sm, 'res/smoothing/H_lilium_s_explict_laplacian.obj', 15)"
   ]
  },
  {
   "attachments": {},
   "cell_type": "markdown",
   "metadata": {},
   "source": [
    "## 6 Implicit Laplacian mesh smoothing"
   ]
  },
  {
   "attachments": {},
   "cell_type": "markdown",
   "metadata": {},
   "source": [
    "Compute implict Laplacian mesh smoothing:\n",
    "\n",
    "Iterate by solving the linear system: $(\\mathbf{I}-\\lambda\\mathbf{L})\\mathbf{x}_{i+1}=\\mathbf{x}_{i}$ represents the cooredinate function, $\\mathbf{L}$ is the uniform Laplace-Beltrami matrix and $\\lambda$ is the smoothing speed."
   ]
  },
  {
   "cell_type": "code",
   "execution_count": 99,
   "metadata": {},
   "outputs": [],
   "source": [
    "def implicit_Laplacian_mesh_smoothing(mesh, lam=0.01, t=20):\n",
    "    \"\"\"\n",
    "    Implicit Laplacian mesh smoothing.\n",
    "\n",
    "    Args:\n",
    "        mesh:           Trimesh, the data of mesh loaded by Trimesh.\n",
    "        lam:            float, represents lambda\n",
    "        t:              int, iteration round\n",
    "    \n",
    "    Returns:\n",
    "        smooth_mesh:    Trimesh, smoothed mesh.\n",
    "    \"\"\"\n",
    "    \n",
    "    # Copy the original mesh\n",
    "    smooth_mesh = mesh.copy()\n",
    "    \n",
    "    # Get the vertices corrdinates\n",
    "    smooth_vertices = np.asarray(mesh.vertices)\n",
    "    vn = smooth_vertices.shape[0]\n",
    "\n",
    "    # Compute sparse uniform Laplace-Beltrami matrix\n",
    "    csr_uL = construct_uniform_Laplace_matrix(mesh)\n",
    "\n",
    "    # Iterate to smooth the mesh.\n",
    "    for _ in tqdm(range(t)):\n",
    "        # Solve the linear system\n",
    "        smooth_vertices = spsolve(identity(vn) - lam * csr_uL, smooth_vertices)\n",
    "        smooth_mesh.vertices = smooth_vertices\n",
    "\n",
    "    return smooth_mesh"
   ]
  },
  {
   "cell_type": "code",
   "execution_count": 128,
   "metadata": {},
   "outputs": [
    {
     "name": "stderr",
     "output_type": "stream",
     "text": [
      "100%|██████████| 100/100 [00:06<00:00, 15.77it/s]\n",
      "100%|██████████| 100/100 [00:05<00:00, 16.69it/s]\n"
     ]
    }
   ],
   "source": [
    "mesh = trimesh.load('meshes/smoothing/fandisk_ns.obj')\n",
    "\n",
    "smooth_mesh = implicit_Laplacian_mesh_smoothing(mesh, lam=0.5, t=100)\n",
    "save_mesh('res/smoothing/implict/fandisk_ns_implict_laplacian_05_100.obj', smooth_mesh.as_open3d)\n",
    "\n",
    "smooth_mesh = implicit_Laplacian_mesh_smoothing(mesh, lam=1.5, t=100)\n",
    "save_mesh('res/smoothing/implict/fandisk_ns_implict_laplacian_15_100.obj', smooth_mesh.as_open3d)"
   ]
  },
  {
   "cell_type": "code",
   "execution_count": 129,
   "metadata": {},
   "outputs": [
    {
     "name": "stderr",
     "output_type": "stream",
     "text": [
      "100%|██████████| 100/100 [00:00<00:00, 164.03it/s]\n",
      "100%|██████████| 100/100 [00:00<00:00, 183.84it/s]\n"
     ]
    }
   ],
   "source": [
    "mesh = trimesh.load('meshes/smoothing/plane_ns.obj')\n",
    "\n",
    "smooth_mesh = implicit_Laplacian_mesh_smoothing(mesh, lam=0.5, t=100)\n",
    "save_mesh('res/smoothing/implict/plane_ns_implict_laplacian_05_100.obj', smooth_mesh.as_open3d)\n",
    "\n",
    "smooth_mesh = implicit_Laplacian_mesh_smoothing(mesh, lam=1.5, t=100)\n",
    "save_mesh('res/smoothing/implict/plane_ns_implict_laplacian_15_100.obj', smooth_mesh.as_open3d)"
   ]
  },
  {
   "cell_type": "code",
   "execution_count": 130,
   "metadata": {},
   "outputs": [
    {
     "name": "stderr",
     "output_type": "stream",
     "text": [
      "100%|██████████| 10/10 [00:00<00:00, 13.59it/s]\n",
      "100%|██████████| 10/10 [00:00<00:00, 14.82it/s]\n",
      "100%|██████████| 10/10 [00:00<00:00, 181.90it/s]\n",
      "100%|██████████| 10/10 [00:00<00:00, 141.25it/s]\n"
     ]
    }
   ],
   "source": [
    "mesh = trimesh.load('meshes/smoothing/fandisk_ns.obj')\n",
    "\n",
    "smooth_mesh = implicit_Laplacian_mesh_smoothing(mesh, lam=0.5, t=10)\n",
    "save_mesh('res/smoothing/implict/fandisk_ns_implict_laplacian_05_10.obj', smooth_mesh.as_open3d)\n",
    "\n",
    "smooth_mesh = implicit_Laplacian_mesh_smoothing(mesh, lam=1.5, t=10)\n",
    "save_mesh('res/smoothing/implict/fandisk_ns_implict_laplacian_15_10.obj', smooth_mesh.as_open3d)\n",
    "\n",
    "mesh = trimesh.load('meshes/smoothing/plane_ns.obj')\n",
    "\n",
    "smooth_mesh = implicit_Laplacian_mesh_smoothing(mesh, lam=0.5, t=10)\n",
    "save_mesh('res/smoothing/implict/plane_ns_implict_laplacian_05_10.obj', smooth_mesh.as_open3d)\n",
    "\n",
    "smooth_mesh = implicit_Laplacian_mesh_smoothing(mesh, lam=1.5, t=10)\n",
    "save_mesh('res/smoothing/implict/plane_ns_implict_laplacian_15_10.obj', smooth_mesh.as_open3d)"
   ]
  },
  {
   "attachments": {},
   "cell_type": "markdown",
   "metadata": {},
   "source": [
    "## 7 Evaluate"
   ]
  },
  {
   "cell_type": "code",
   "execution_count": 134,
   "metadata": {},
   "outputs": [
    {
     "name": "stderr",
     "output_type": "stream",
     "text": [
      "100%|██████████| 10/10 [00:00<00:00, 14.35it/s]\n"
     ]
    }
   ],
   "source": [
    "mesh = trimesh.load('meshes/smoothing/fandisk_ns.obj')\n",
    "mesh_ns = mesh.copy()\n",
    "\n",
    "sig = 1\n",
    "\n",
    "vertices = mesh.vertices\n",
    "noises = np.random.normal(0, sig, vertices.shape)\n",
    "mesh_ns.vertices = vertices + noises\n",
    "\n",
    "save_mesh('res/evaluate/fandisk_ns_noise_1.obj', mesh_ns.as_open3d)\n",
    "\n",
    "smooth_mesh = implicit_Laplacian_mesh_smoothing(mesh_ns, lam=1.5, t=10)\n",
    "save_mesh('res/evaluate/fandisk_noise_smooth_1.obj', smooth_mesh.as_open3d)"
   ]
  },
  {
   "cell_type": "code",
   "execution_count": 135,
   "metadata": {},
   "outputs": [
    {
     "name": "stderr",
     "output_type": "stream",
     "text": [
      "100%|██████████| 10/10 [00:00<00:00, 14.15it/s]\n"
     ]
    }
   ],
   "source": [
    "mesh = trimesh.load('meshes/smoothing/fandisk_ns.obj')\n",
    "mesh_ns = mesh.copy()\n",
    "\n",
    "sig = 0.1\n",
    "\n",
    "vertices = mesh.vertices\n",
    "noises = np.random.normal(0, sig, vertices.shape)\n",
    "mesh_ns.vertices = vertices + noises\n",
    "\n",
    "save_mesh('res/evaluate/fandisk_ns_noise_01.obj', mesh_ns.as_open3d)\n",
    "\n",
    "smooth_mesh = implicit_Laplacian_mesh_smoothing(mesh_ns, lam=1.5, t=10)\n",
    "save_mesh('res/evaluate/fandisk_noise_smooth_01.obj', smooth_mesh.as_open3d)"
   ]
  }
 ],
 "metadata": {
  "kernelspec": {
   "display_name": "Python 3",
   "language": "python",
   "name": "python3"
  },
  "language_info": {
   "codemirror_mode": {
    "name": "ipython",
    "version": 3
   },
   "file_extension": ".py",
   "mimetype": "text/x-python",
   "name": "python",
   "nbconvert_exporter": "python",
   "pygments_lexer": "ipython3",
   "version": "3.9.15"
  },
  "orig_nbformat": 4
 },
 "nbformat": 4,
 "nbformat_minor": 2
}
