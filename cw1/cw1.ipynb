{
 "cells": [
  {
   "cell_type": "code",
   "execution_count": 176,
   "metadata": {},
   "outputs": [],
   "source": [
    "import sys, os\n",
    "\n",
    "import igl\n",
    "import open3d as o3d\n",
    "from meshplot import plot\n",
    "\n",
    "import scipy as sp\n",
    "import numpy as np\n",
    "from sklearn.neighbors import KDTree"
   ]
  },
  {
   "cell_type": "markdown",
   "metadata": {},
   "source": [
    "## Part 1"
   ]
  },
  {
   "cell_type": "code",
   "execution_count": 196,
   "metadata": {},
   "outputs": [],
   "source": [
    "# utility function\n",
    "def show_pointcloud(points):\n",
    "    pts_o3d = o3d.geometry.PointCloud()\n",
    "    pts_o3d.points = o3d.utility.Vector3dVector(points)\n",
    "    o3d.visualization.draw_geometries([pts_o3d])\n",
    "\n",
    "def evaluate_align(source_ply, target_ply, threshold=0.001):\n",
    "    source_ptc = o3d.geometry.PointCloud()\n",
    "    target_ptc = o3d.geometry.PointCloud()\n",
    "    source_ptc.points = o3d.utility.Vector3dVector(np.asarray(source_ply.vertices))\n",
    "    target_ptc.points = o3d.utility.Vector3dVector(np.asarray(target_ply.vertices))\n",
    "    evaluation = o3d.pipelines.registration.evaluate_registration(source_ptc, target_ptc, threshold)\n",
    "    return evaluation"
   ]
  },
  {
   "cell_type": "markdown",
   "metadata": {},
   "source": [
    "### 1. Select a subset of points $p_i$"
   ]
  },
  {
   "cell_type": "code",
   "execution_count": 2,
   "metadata": {},
   "outputs": [],
   "source": [
    "def uniform_sample(ply, n=1000):\n",
    "    pcd = ply.sample_points_uniformly(number_of_points=n)\n",
    "    p = pcd.points\n",
    "    return np.asarray(p)"
   ]
  },
  {
   "cell_type": "markdown",
   "metadata": {},
   "source": [
    "### 2. Match each $p_i$ to closest point $q_i$ on other scan"
   ]
  },
  {
   "cell_type": "code",
   "execution_count": 4,
   "metadata": {},
   "outputs": [],
   "source": [
    "def match_points(sampled_pts, mesh_pts):\n",
    "    n_pts, dim = sampled_pts.shape\n",
    "    tree = KDTree(mesh_pts, leaf_size=2)\n",
    "    dist, idx = tree.query(sampled_pts, k=1)\n",
    "    return dist.reshape((n_pts,)), mesh_pts[idx].reshape((n_pts, dim))"
   ]
  },
  {
   "cell_type": "markdown",
   "metadata": {},
   "source": [
    "### 3. Reject \"bad\" pairs $(p_i, q_i)$"
   ]
  },
  {
   "cell_type": "code",
   "execution_count": 5,
   "metadata": {},
   "outputs": [],
   "source": [
    "def reject_pairs(p, q, dist):\n",
    "    med = np.median(dist)\n",
    "    idx = np.where(dist < 2. * med)\n",
    "    return p[idx], q[idx]"
   ]
  },
  {
   "cell_type": "markdown",
   "metadata": {},
   "source": [
    "### 4. Compute rotation $R$ and translation $t$"
   ]
  },
  {
   "cell_type": "code",
   "execution_count": 6,
   "metadata": {},
   "outputs": [],
   "source": [
    "def solve_Rt(p, q):\n",
    "    p_avg = np.mean(p, axis=0)\n",
    "    q_avg = np.mean(q, axis=0)\n",
    "    P = (p - p_avg).T\n",
    "    Q = (q - q_avg).T\n",
    "    u, s, vh = np.linalg.svd(Q @ P.T, full_matrices=True)\n",
    "    R = vh.T @ np.array([\n",
    "        [1., 0., 0.],\n",
    "        [0., 1., 0.],\n",
    "        [0., 0., np.linalg.det(vh.T @ u.T)]\n",
    "    ]) @ u.T\n",
    "    t = p_avg - R @ q_avg\n",
    "    return R, t"
   ]
  },
  {
   "cell_type": "markdown",
   "metadata": {},
   "source": [
    "### 5. Iterate after scan alignment: $q_i \\larr Rq_i + t$"
   ]
  },
  {
   "cell_type": "code",
   "execution_count": 168,
   "metadata": {},
   "outputs": [],
   "source": [
    "def paint_overlap(ply1, ply2, radius=0.001):\n",
    "    ply1_non_overlap_color = np.array([255, 127, 80]) / 255.\n",
    "    overlap_color = np.array([138, 43, 226]) / 255.\n",
    "    ply2_non_overlap_color = np.array([3, 168, 158]) / 255.\n",
    "    \n",
    "    points1 = np.asarray(ply1.vertices)\n",
    "    points2 = np.asarray(ply2.vertices)\n",
    "    colors1 = np.zeros((points1.shape[0], 3))\n",
    "    colors2 = np.zeros((points2.shape[0], 3))\n",
    "\n",
    "    tree1 = KDTree(points1, leaf_size=10) \n",
    "    tree2 = KDTree(points2, leaf_size=10) \n",
    "\n",
    "    has_neighbours1 = tree2.query_radius(points1, r=radius, count_only=True)\n",
    "    colors1[has_neighbours1==0] = ply1_non_overlap_color\n",
    "    colors1[has_neighbours1!=0] = overlap_color\n",
    "\n",
    "    has_neighbours2 = tree1.query_radius(points2, r=radius, count_only=True)\n",
    "    colors2[has_neighbours2==0] = ply2_non_overlap_color\n",
    "    colors2[has_neighbours2!=0] = overlap_color\n",
    "\n",
    "    ply1.vertex_colors=o3d.utility.Vector3dVector(colors1)\n",
    "    ply2.vertex_colors=o3d.utility.Vector3dVector(colors2)\n",
    "\n",
    "    return ply1, ply2"
   ]
  },
  {
   "cell_type": "code",
   "execution_count": 159,
   "metadata": {},
   "outputs": [
    {
     "name": "stdout",
     "output_type": "stream",
     "text": [
      "[1 0 1]\n",
      "[array([3]) array([], dtype=int64) array([7])]\n"
     ]
    }
   ],
   "source": [
    "rng = np.random.RandomState(0)\n",
    "X = rng.random_sample((10, 3))  # 10 points in 3 dimensions\n",
    "Y = rng.random_sample((3, 3))\n",
    "tree = KDTree(X, leaf_size=2)     \n",
    "print(tree.query_radius(Y, r=0.3, count_only=True))\n",
    "ind = tree.query_radius(Y, r=0.3)  \n",
    "print(ind)  # indices of neighbors within distance 0.3"
   ]
  },
  {
   "cell_type": "code",
   "execution_count": 193,
   "metadata": {},
   "outputs": [],
   "source": [
    "def icp(mesh1_fp, mesh2_fp, tl=1e-3, init_transform=None):\n",
    "    # mesh2 to mesh1\n",
    "\n",
    "    ply1 = o3d.io.read_triangle_mesh(mesh1_fp)\n",
    "    ply2 = o3d.io.read_triangle_mesh(mesh2_fp)\n",
    "\n",
    "    if init_transform is not None:\n",
    "        ply2 = ply2.transform(init_transform)\n",
    "\n",
    "    # ply1 = ply1.compute_vertex_normals()\n",
    "    # ply2 = ply2.compute_vertex_normals()\n",
    "\n",
    "    E = np.array([\n",
    "        [1., 0., 0.],\n",
    "        [0., 1., 0.],\n",
    "        [0., 0., 1.],\n",
    "    ])\n",
    "    \n",
    "    while True:\n",
    "    \n",
    "        points1 = np.asarray(ply1.vertices)\n",
    "        sampled_points2 = uniform_sample(ply2)\n",
    "        \n",
    "        dist, corr_points1 = match_points(sampled_points2, points1)\n",
    "        p, q = reject_pairs(corr_points1, sampled_points2, dist)\n",
    "        R, t = solve_Rt(p, q)\n",
    "\n",
    "        if np.linalg.norm(E - R) < tl:\n",
    "            ply1, ply2 = paint_overlap(ply1, ply2)\n",
    "            return ply1, ply2\n",
    "\n",
    "        ply2 = ply2.rotate(R)\n",
    "        ply2 = ply2.translate(t)\n"
   ]
  },
  {
   "cell_type": "code",
   "execution_count": 197,
   "metadata": {},
   "outputs": [
    {
     "name": "stdout",
     "output_type": "stream",
     "text": [
      "RegistrationResult with fitness=9.149812e-01, inlier_rmse=3.887063e-04, and correspondence_set size of 36688\n",
      "Access transformation to get result.\n"
     ]
    }
   ],
   "source": [
    "mesh1_fp = os.path.join('bunny_v2', 'bun000_v2.ply')\n",
    "mesh2_fp = os.path.join('bunny_v2', 'bun045_v2.ply')\n",
    "ply1, ply2 = icp(mesh1_fp, mesh2_fp)\n",
    "o3d.io.write_triangle_mesh(os.path.join('bunny_v2', 'bun045_v2_reg_paint.ply'), ply2)\n",
    "o3d.io.write_triangle_mesh(os.path.join('bunny_v2', 'bun000_v2_paint045.ply'), ply1)\n",
    "evaluation = evaluate_align(ply2, ply1)\n",
    "print(evaluation)"
   ]
  },
  {
   "cell_type": "code",
   "execution_count": 198,
   "metadata": {},
   "outputs": [
    {
     "name": "stdout",
     "output_type": "stream",
     "text": [
      "RegistrationResult with fitness=9.570676e-02, inlier_rmse=6.400720e-04, and correspondence_set size of 3034\n",
      "Access transformation to get result.\n"
     ]
    }
   ],
   "source": [
    "mesh1_fp = os.path.join('bunny_v2', 'bun000_v2.ply')\n",
    "mesh2_fp = os.path.join('bunny_v2', 'bun270_v2.ply')\n",
    "ply1, ply2 = icp(mesh1_fp, mesh2_fp)\n",
    "o3d.io.write_triangle_mesh(os.path.join('bunny_v2', 'bun000_v2_paint270.ply'), ply1)\n",
    "o3d.io.write_triangle_mesh(os.path.join('bunny_v2', 'bun270_v2_reg_paint.ply'), ply2)\n",
    "evaluation = evaluate_align(ply2, ply1)\n",
    "print(evaluation)"
   ]
  },
  {
   "cell_type": "markdown",
   "metadata": {},
   "source": [
    "## Part 5"
   ]
  },
  {
   "cell_type": "code",
   "execution_count": 199,
   "metadata": {},
   "outputs": [],
   "source": [
    "def convert_pts_to_ptc(pts):\n",
    "    pts_o3d = o3d.geometry.PointCloud()\n",
    "    pts_o3d.points = o3d.utility.Vector3dVector(pts)\n",
    "    return pts_o3d"
   ]
  },
  {
   "cell_type": "code",
   "execution_count": 200,
   "metadata": {},
   "outputs": [],
   "source": [
    "def preprocess_point_cloud(pcd_down, voxel_size):\n",
    "    radius_normal = voxel_size * 2\n",
    "    pcd_down.estimate_normals(o3d.geometry.KDTreeSearchParamHybrid(radius=radius_normal, max_nn=30))\n",
    "    radius_feature = voxel_size * 5\n",
    "    pcd_fpfh = o3d.pipelines.registration.compute_fpfh_feature(pcd_down, o3d.geometry.KDTreeSearchParamHybrid(radius=radius_feature, max_nn=100))\n",
    "    return pcd_fpfh"
   ]
  },
  {
   "cell_type": "code",
   "execution_count": 201,
   "metadata": {},
   "outputs": [],
   "source": [
    "def prepare_dataset(voxel_size, mesh1_fp, mesh2_fp):\n",
    "    ply1 = o3d.io.read_triangle_mesh(mesh1_fp)\n",
    "    ply2 = o3d.io.read_triangle_mesh(mesh2_fp)\n",
    "    source_down = convert_pts_to_ptc(uniform_sample(ply2, 10000))\n",
    "    target_down = convert_pts_to_ptc(uniform_sample(ply1, 10000))\n",
    "\n",
    "    source_fpfh = preprocess_point_cloud(source_down, voxel_size)\n",
    "    target_fpfh = preprocess_point_cloud(target_down, voxel_size)\n",
    "    return source_down, target_down, source_fpfh, target_fpfh"
   ]
  },
  {
   "cell_type": "code",
   "execution_count": 202,
   "metadata": {},
   "outputs": [],
   "source": [
    "def execute_fast_global_registration(source_down, target_down, source_fpfh,\n",
    "                                     target_fpfh, voxel_size):\n",
    "    distance_threshold = voxel_size * 0.5\n",
    "    result = o3d.pipelines.registration.registration_fgr_based_on_feature_matching(\n",
    "        source_down, target_down, source_fpfh, target_fpfh,\n",
    "        o3d.pipelines.registration.FastGlobalRegistrationOption(\n",
    "            maximum_correspondence_distance=distance_threshold))\n",
    "    return result"
   ]
  },
  {
   "cell_type": "code",
   "execution_count": 203,
   "metadata": {},
   "outputs": [
    {
     "name": "stdout",
     "output_type": "stream",
     "text": [
      "[[ 7.15243179e-01 -1.58957941e-02 -6.98694868e-01 -7.26120028e-03]\n",
      " [ 2.20677025e-02  9.99756467e-01 -1.54787559e-04  2.57584837e-04]\n",
      " [ 6.98527173e-01 -1.53078798e-02  7.15419777e-01 -1.30532653e-02]\n",
      " [-0.00000000e+00  0.00000000e+00 -0.00000000e+00  1.00000000e+00]]\n"
     ]
    }
   ],
   "source": [
    "mesh1_fp = os.path.join('bunny_v2', 'bun000_v2.ply')\n",
    "mesh2_fp = os.path.join('bunny_v2', 'bun315_v2.ply')\n",
    "voxel_size = 0.005\n",
    "source_down, target_down, source_fpfh, target_fpfh = prepare_dataset(voxel_size, mesh1_fp, mesh2_fp)\n",
    "result = execute_fast_global_registration(source_down, target_down, source_fpfh, target_fpfh, voxel_size)\n",
    "print(result.transformation)"
   ]
  },
  {
   "cell_type": "code",
   "execution_count": 205,
   "metadata": {},
   "outputs": [
    {
     "name": "stdout",
     "output_type": "stream",
     "text": [
      "RegistrationResult with fitness=7.961286e-01, inlier_rmse=4.060414e-04, and correspondence_set size of 28132\n",
      "Access transformation to get result.\n"
     ]
    }
   ],
   "source": [
    "ply1, ply2 = icp(mesh1_fp, mesh2_fp, 5e-4, result.transformation)\n",
    "o3d.io.write_triangle_mesh(os.path.join('bunny_v2', 'bun000_v2_paint315.ply'), ply1)\n",
    "o3d.io.write_triangle_mesh(os.path.join('bunny_v2', 'bun315_v2_reg_paint.ply'), ply2)\n",
    "evaluation = evaluate_align(ply2, ply1)\n",
    "print(evaluation)"
   ]
  },
  {
   "cell_type": "markdown",
   "metadata": {},
   "source": [
    "## Part 6"
   ]
  },
  {
   "cell_type": "code",
   "execution_count": 14,
   "metadata": {},
   "outputs": [],
   "source": [
    "def ptpl_match_points(sampled_pts, mesh_pts, n):\n",
    "    n_pts, dim = sampled_pts.shape\n",
    "    tree = KDTree(mesh_pts, leaf_size=2)\n",
    "    dist, idx = tree.query(sampled_pts, k=1)\n",
    "    return dist.reshape((n_pts,)), mesh_pts[idx].reshape((n_pts, dim)), n[idx].reshape((n_pts, dim))"
   ]
  },
  {
   "cell_type": "code",
   "execution_count": 15,
   "metadata": {},
   "outputs": [],
   "source": [
    "def ptpl_reject_pairs(p, q, dist, n):\n",
    "    med = np.median(dist)\n",
    "    idx = np.where(dist < 2. * med)\n",
    "    return p[idx], q[idx], n[idx]"
   ]
  },
  {
   "cell_type": "code",
   "execution_count": 208,
   "metadata": {},
   "outputs": [],
   "source": [
    "def ptpl_solve_Rt(p, q, n_p):\n",
    "    a = np.cross(q, n_p)\n",
    "    A = np.hstack((a, n_p))\n",
    "    b = np.array([np.sum(n_p * p - n_p * q, axis=1)]).T\n",
    "    \n",
    "    # u, s, vh = np.linalg.svd(A, full_matrices=False)\n",
    "    # Aplus = vh.T @ np.linalg.pinv(np.diag(s)) @ u.T\n",
    "    alpha, beta, gamma, tx, ty, tz = np.linalg.pinv(A.T @ A) @ A.T @ b\n",
    "\n",
    "    R = np.array([\n",
    "        [1., -gamma, beta],\n",
    "        [gamma, 1., -alpha],\n",
    "        [-beta, alpha, 1.]\n",
    "    ])\n",
    "    t = np.array([tx, ty, tz])\n",
    "    return R, t"
   ]
  },
  {
   "cell_type": "code",
   "execution_count": 209,
   "metadata": {},
   "outputs": [],
   "source": [
    "def ptpl_icp(mesh1_fp, mesh2_fp, tl=5e-4):\n",
    "    # mesh2 to mesh1\n",
    "\n",
    "    ply1 = o3d.io.read_triangle_mesh(mesh1_fp)\n",
    "    ply2 = o3d.io.read_triangle_mesh(mesh2_fp)\n",
    "\n",
    "    ply1 = ply1.compute_vertex_normals()\n",
    "    n_p = np.asarray(ply1.vertex_normals)\n",
    "\n",
    "    E = np.array([\n",
    "        [1., 0., 0.],\n",
    "        [0., 1., 0.],\n",
    "        [0., 0., 1.],\n",
    "    ])\n",
    "\n",
    "    while True:\n",
    "    \n",
    "        points1 = np.asarray(ply1.vertices)\n",
    "        sampled_points2 = uniform_sample(ply2)\n",
    "        \n",
    "        dist, corr_points1, n = ptpl_match_points(sampled_points2, points1, n_p)\n",
    "        p, q, n = ptpl_reject_pairs(corr_points1, sampled_points2, dist, n_p)\n",
    "        R, t = ptpl_solve_Rt(p, q, n)\n",
    "\n",
    "        if np.linalg.norm(E - R) < tl:\n",
    "            ply1, ply2 = paint_overlap(ply1, ply2)\n",
    "            return ply1, ply2\n",
    "\n",
    "        ply2 = ply2.rotate(R)\n",
    "        ply2 = ply2.translate(t)\n"
   ]
  },
  {
   "cell_type": "code",
   "execution_count": 210,
   "metadata": {},
   "outputs": [
    {
     "name": "stdout",
     "output_type": "stream",
     "text": [
      "\u001b[1;33m[Open3D WARNING] Read PLY failed: unable to open file: bunny_v2/bun000_v2.ply\u001b[0;m\n",
      "\u001b[1;33m[Open3D WARNING] Read PLY failed: unable to open file: bunny_v2/bun045_v2.ply\u001b[0;m\n"
     ]
    },
    {
     "name": "stderr",
     "output_type": "stream",
     "text": [
      "RPly: Unable to open file\n",
      "RPly: Unable to open file\n"
     ]
    },
    {
     "ename": "RuntimeError",
     "evalue": "\u001b[1;31m[Open3D Error] (std::shared_ptr<PointCloud> open3d::geometry::TriangleMesh::SamplePointsUniformly(size_t, bool)) /Users/runner/work/Open3D/Open3D/cpp/open3d/geometry/TriangleMesh.cpp:526: Input mesh has no triangles.\n\u001b[0;m",
     "output_type": "error",
     "traceback": [
      "\u001b[0;31m---------------------------------------------------------------------------\u001b[0m",
      "\u001b[0;31mRuntimeError\u001b[0m                              Traceback (most recent call last)",
      "Cell \u001b[0;32mIn[210], line 3\u001b[0m\n\u001b[1;32m      1\u001b[0m mesh1_fp \u001b[39m=\u001b[39m os\u001b[39m.\u001b[39mpath\u001b[39m.\u001b[39mjoin(\u001b[39m'\u001b[39m\u001b[39mbunny_v2\u001b[39m\u001b[39m'\u001b[39m, \u001b[39m'\u001b[39m\u001b[39mbun000_v2.ply\u001b[39m\u001b[39m'\u001b[39m)\n\u001b[1;32m      2\u001b[0m mesh2_fp \u001b[39m=\u001b[39m os\u001b[39m.\u001b[39mpath\u001b[39m.\u001b[39mjoin(\u001b[39m'\u001b[39m\u001b[39mbunny_v2\u001b[39m\u001b[39m'\u001b[39m, \u001b[39m'\u001b[39m\u001b[39mbun045_v2.ply\u001b[39m\u001b[39m'\u001b[39m)\n\u001b[0;32m----> 3\u001b[0m ply1, ply2 \u001b[39m=\u001b[39m ptpl_icp(mesh1_fp, mesh2_fp)\n\u001b[1;32m      4\u001b[0m o3d\u001b[39m.\u001b[39mio\u001b[39m.\u001b[39mwrite_triangle_mesh(os\u001b[39m.\u001b[39mpath\u001b[39m.\u001b[39mjoin(\u001b[39m'\u001b[39m\u001b[39mbunny_v2\u001b[39m\u001b[39m'\u001b[39m, \u001b[39m'\u001b[39m\u001b[39mbun000_v2_ptpl_paint045.ply\u001b[39m\u001b[39m'\u001b[39m), ply1)\n\u001b[1;32m      5\u001b[0m o3d\u001b[39m.\u001b[39mio\u001b[39m.\u001b[39mwrite_triangle_mesh(os\u001b[39m.\u001b[39mpath\u001b[39m.\u001b[39mjoin(\u001b[39m'\u001b[39m\u001b[39mbunny_v2\u001b[39m\u001b[39m'\u001b[39m, \u001b[39m'\u001b[39m\u001b[39mbun045_v2_ptpl_reg_paint.ply\u001b[39m\u001b[39m'\u001b[39m), ply2)\n",
      "Cell \u001b[0;32mIn[209], line 19\u001b[0m, in \u001b[0;36mptpl_icp\u001b[0;34m(mesh1_fp, mesh2_fp, tl)\u001b[0m\n\u001b[1;32m     16\u001b[0m \u001b[39mwhile\u001b[39;00m \u001b[39mTrue\u001b[39;00m:\n\u001b[1;32m     18\u001b[0m     points1 \u001b[39m=\u001b[39m np\u001b[39m.\u001b[39masarray(ply1\u001b[39m.\u001b[39mvertices)\n\u001b[0;32m---> 19\u001b[0m     sampled_points2 \u001b[39m=\u001b[39m uniform_sample(ply2)\n\u001b[1;32m     21\u001b[0m     dist, corr_points1, n \u001b[39m=\u001b[39m ptpl_match_points(sampled_points2, points1, n_p)\n\u001b[1;32m     22\u001b[0m     p, q, n \u001b[39m=\u001b[39m ptpl_reject_pairs(corr_points1, sampled_points2, dist, n_p)\n",
      "Cell \u001b[0;32mIn[2], line 2\u001b[0m, in \u001b[0;36muniform_sample\u001b[0;34m(ply, n)\u001b[0m\n\u001b[1;32m      1\u001b[0m \u001b[39mdef\u001b[39;00m \u001b[39muniform_sample\u001b[39m(ply, n\u001b[39m=\u001b[39m\u001b[39m1000\u001b[39m):\n\u001b[0;32m----> 2\u001b[0m     pcd \u001b[39m=\u001b[39m ply\u001b[39m.\u001b[39;49msample_points_uniformly(number_of_points\u001b[39m=\u001b[39;49mn)\n\u001b[1;32m      3\u001b[0m     p \u001b[39m=\u001b[39m pcd\u001b[39m.\u001b[39mpoints\n\u001b[1;32m      4\u001b[0m     \u001b[39mreturn\u001b[39;00m np\u001b[39m.\u001b[39masarray(p)\n",
      "\u001b[0;31mRuntimeError\u001b[0m: \u001b[1;31m[Open3D Error] (std::shared_ptr<PointCloud> open3d::geometry::TriangleMesh::SamplePointsUniformly(size_t, bool)) /Users/runner/work/Open3D/Open3D/cpp/open3d/geometry/TriangleMesh.cpp:526: Input mesh has no triangles.\n\u001b[0;m"
     ]
    }
   ],
   "source": [
    "mesh1_fp = os.path.join('bunny_v2', 'bun000_v2.ply')\n",
    "mesh2_fp = os.path.join('bunny_v2', 'bun045_v2.ply')\n",
    "ply1, ply2 = ptpl_icp(mesh1_fp, mesh2_fp)\n",
    "o3d.io.write_triangle_mesh(os.path.join('bunny_v2', 'bun000_v2_ptpl_paint045.ply'), ply1)\n",
    "o3d.io.write_triangle_mesh(os.path.join('bunny_v2', 'bun045_v2_ptpl_reg_paint.ply'), ply2)\n",
    "evaluation = evaluate_align(ply2, ply1)\n",
    "print(evaluation)"
   ]
  }
 ],
 "metadata": {
  "kernelspec": {
   "display_name": "Python 3.9.15",
   "language": "python",
   "name": "python3"
  },
  "language_info": {
   "codemirror_mode": {
    "name": "ipython",
    "version": 3
   },
   "file_extension": ".py",
   "mimetype": "text/x-python",
   "name": "python",
   "nbconvert_exporter": "python",
   "pygments_lexer": "ipython3",
   "version": "3.9.15"
  },
  "orig_nbformat": 4,
  "vscode": {
   "interpreter": {
    "hash": "82278f97a5e708b4389ce34955b3a62a6bf40296134f1eeb2b00e0e6706f3d90"
   }
  }
 },
 "nbformat": 4,
 "nbformat_minor": 2
}
