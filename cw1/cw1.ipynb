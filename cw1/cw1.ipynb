{
 "cells": [
  {
   "cell_type": "code",
   "execution_count": 1,
   "metadata": {},
   "outputs": [],
   "source": [
    "import sys, os\n",
    "\n",
    "import igl\n",
    "import open3d as o3d\n",
    "from meshplot import plot\n",
    "\n",
    "import scipy as sp\n",
    "import numpy as np\n",
    "from sklearn.neighbors import KDTree"
   ]
  },
  {
   "cell_type": "markdown",
   "metadata": {},
   "source": [
    "## Part 1"
   ]
  },
  {
   "cell_type": "code",
   "execution_count": 2,
   "metadata": {},
   "outputs": [],
   "source": [
    "# utility function\n",
    "def show_pointcloud(points):\n",
    "    pts_o3d = o3d.geometry.PointCloud()\n",
    "    pts_o3d.points = o3d.utility.Vector3dVector(points)\n",
    "    o3d.visualization.draw_geometries([pts_o3d])\n",
    "\n",
    "def evaluate_align(source_ply, target_ply, threshold=0.001):\n",
    "    source_ptc = o3d.geometry.PointCloud()\n",
    "    target_ptc = o3d.geometry.PointCloud()\n",
    "    source_ptc.points = o3d.utility.Vector3dVector(np.asarray(source_ply.vertices))\n",
    "    target_ptc.points = o3d.utility.Vector3dVector(np.asarray(target_ply.vertices))\n",
    "    evaluation = o3d.pipelines.registration.evaluate_registration(source_ptc, target_ptc, threshold)\n",
    "    return evaluation"
   ]
  },
  {
   "cell_type": "markdown",
   "metadata": {},
   "source": [
    "### 1. Select a subset of points $p_i$"
   ]
  },
  {
   "cell_type": "code",
   "execution_count": 3,
   "metadata": {},
   "outputs": [],
   "source": [
    "def uniform_sample(ply, n=1000):\n",
    "    pcd = ply.sample_points_uniformly(number_of_points=n)\n",
    "    p = pcd.points\n",
    "    return np.asarray(p)"
   ]
  },
  {
   "cell_type": "markdown",
   "metadata": {},
   "source": [
    "### 2. Match each $p_i$ to closest point $q_i$ on other scan"
   ]
  },
  {
   "cell_type": "code",
   "execution_count": 4,
   "metadata": {},
   "outputs": [],
   "source": [
    "def match_points(sampled_pts, mesh_pts):\n",
    "    n_pts, dim = sampled_pts.shape\n",
    "    tree = KDTree(mesh_pts, leaf_size=2)\n",
    "    dist, idx = tree.query(sampled_pts, k=1)\n",
    "    return dist.reshape((n_pts,)), mesh_pts[idx].reshape((n_pts, dim))"
   ]
  },
  {
   "cell_type": "markdown",
   "metadata": {},
   "source": [
    "### 3. Reject \"bad\" pairs $(p_i, q_i)$"
   ]
  },
  {
   "cell_type": "code",
   "execution_count": 5,
   "metadata": {},
   "outputs": [],
   "source": [
    "def reject_pairs(p, q, dist):\n",
    "    med = np.median(dist)\n",
    "    idx = np.where(dist < 2. * med)\n",
    "    return p[idx], q[idx]"
   ]
  },
  {
   "cell_type": "markdown",
   "metadata": {},
   "source": [
    "### 4. Compute rotation $R$ and translation $t$"
   ]
  },
  {
   "cell_type": "code",
   "execution_count": 6,
   "metadata": {},
   "outputs": [],
   "source": [
    "def solve_Rt(p, q):\n",
    "    p_avg = np.mean(p, axis=0)\n",
    "    q_avg = np.mean(q, axis=0)\n",
    "    P = (p - p_avg).T\n",
    "    Q = (q - q_avg).T\n",
    "    u, s, vh = np.linalg.svd(Q @ P.T, full_matrices=True)\n",
    "    R = vh.T @ np.array([\n",
    "        [1., 0., 0.],\n",
    "        [0., 1., 0.],\n",
    "        [0., 0., np.linalg.det(vh.T @ u.T)]\n",
    "    ]) @ u.T\n",
    "    t = p_avg - R @ q_avg\n",
    "    return R, t"
   ]
  },
  {
   "cell_type": "markdown",
   "metadata": {},
   "source": [
    "### 5. Iterate after scan alignment: $q_i \\larr Rq_i + t$"
   ]
  },
  {
   "cell_type": "code",
   "execution_count": 7,
   "metadata": {},
   "outputs": [],
   "source": [
    "def paint_overlap(ply1, ply2, radius=0.001):\n",
    "    ply1_non_overlap_color = np.array([255, 127, 80]) / 255.\n",
    "    overlap_color = np.array([138, 43, 226]) / 255.\n",
    "    ply2_non_overlap_color = np.array([3, 168, 158]) / 255.\n",
    "    \n",
    "    points1 = np.asarray(ply1.vertices)\n",
    "    points2 = np.asarray(ply2.vertices)\n",
    "    colors1 = np.zeros((points1.shape[0], 3))\n",
    "    colors2 = np.zeros((points2.shape[0], 3))\n",
    "\n",
    "    tree1 = KDTree(points1, leaf_size=10) \n",
    "    tree2 = KDTree(points2, leaf_size=10) \n",
    "\n",
    "    has_neighbours1 = tree2.query_radius(points1, r=radius, count_only=True)\n",
    "    colors1[has_neighbours1==0] = ply1_non_overlap_color\n",
    "    colors1[has_neighbours1!=0] = overlap_color\n",
    "\n",
    "    has_neighbours2 = tree1.query_radius(points2, r=radius, count_only=True)\n",
    "    colors2[has_neighbours2==0] = ply2_non_overlap_color\n",
    "    colors2[has_neighbours2!=0] = overlap_color\n",
    "\n",
    "    ply1.vertex_colors=o3d.utility.Vector3dVector(colors1)\n",
    "    ply2.vertex_colors=o3d.utility.Vector3dVector(colors2)\n",
    "\n",
    "    return ply1, ply2"
   ]
  },
  {
   "cell_type": "code",
   "execution_count": 61,
   "metadata": {},
   "outputs": [],
   "source": [
    "def icp(mesh1_fp, mesh2_fp, tl=1e-3, init_transform=None, max_it=300, sample_number=1000):\n",
    "    # mesh2 to mesh1\n",
    "\n",
    "    ply1 = o3d.io.read_triangle_mesh(mesh1_fp)\n",
    "    ply2 = o3d.io.read_triangle_mesh(mesh2_fp)\n",
    "\n",
    "    if init_transform is not None:\n",
    "        ply2 = ply2.transform(init_transform)\n",
    "\n",
    "    # ply1 = ply1.compute_vertex_normals()\n",
    "    # ply2 = ply2.compute_vertex_normals()\n",
    "\n",
    "    E = np.array([\n",
    "        [1., 0., 0.],\n",
    "        [0., 1., 0.],\n",
    "        [0., 0., 1.],\n",
    "    ])\n",
    "    \n",
    "    cnt_it = 0\n",
    "    while cnt_it < max_it:\n",
    "    \n",
    "        points1 = np.asarray(ply1.vertices)\n",
    "        sampled_points2 = uniform_sample(ply2, sample_number)\n",
    "        \n",
    "        dist, corr_points1 = match_points(sampled_points2, points1)\n",
    "        p, q = reject_pairs(corr_points1, sampled_points2, dist)\n",
    "        R, t = solve_Rt(p, q)\n",
    "\n",
    "        if np.linalg.norm(E - R) < tl:\n",
    "            ply1, ply2 = paint_overlap(ply1, ply2)\n",
    "            print(\"Possible to be aligned after %d iteration(s).\" % cnt_it)\n",
    "            return ply1, ply2\n",
    "\n",
    "        cnt_it += 1\n",
    "        ply2 = ply2.rotate(R)\n",
    "        ply2 = ply2.translate(t)\n",
    "\n",
    "    print(\"ICP stopped after max iteration number %d.\" % max_it)\n",
    "    return ply1, ply2\n"
   ]
  },
  {
   "cell_type": "code",
   "execution_count": 58,
   "metadata": {},
   "outputs": [
    {
     "name": "stdout",
     "output_type": "stream",
     "text": [
      "Possible to be aligned after 55 iteration(s).\n",
      "RegistrationResult with fitness=9.153553e-01, inlier_rmse=3.821589e-04, and correspondence_set size of 36703\n",
      "Access transformation to get result.\n"
     ]
    }
   ],
   "source": [
    "mesh1_fp = os.path.join('bunny_v2', 'bun000_v2.ply')\n",
    "mesh2_fp = os.path.join('bunny_v2', 'bun045_v2.ply')\n",
    "ply1, ply2 = icp(mesh1_fp, mesh2_fp)\n",
    "o3d.io.write_triangle_mesh(os.path.join('bunny_v2', 'bun045_v2_reg_paint.ply'), ply2)\n",
    "o3d.io.write_triangle_mesh(os.path.join('bunny_v2', 'bun000_v2_paint045.ply'), ply1)\n",
    "evaluation = evaluate_align(ply2, ply1)\n",
    "print(evaluation)"
   ]
  },
  {
   "cell_type": "code",
   "execution_count": 11,
   "metadata": {},
   "outputs": [
    {
     "name": "stdout",
     "output_type": "stream",
     "text": [
      "RegistrationResult with fitness=9.441343e-02, inlier_rmse=6.404660e-04, and correspondence_set size of 2993\n",
      "Access transformation to get result.\n"
     ]
    }
   ],
   "source": [
    "mesh1_fp = os.path.join('bunny_v2', 'bun000_v2.ply')\n",
    "mesh2_fp = os.path.join('bunny_v2', 'bun270_v2.ply')\n",
    "ply1, ply2 = icp(mesh1_fp, mesh2_fp)\n",
    "o3d.io.write_triangle_mesh(os.path.join('bunny_v2', 'bun000_v2_paint270.ply'), ply1)\n",
    "o3d.io.write_triangle_mesh(os.path.join('bunny_v2', 'bun270_v2_reg_paint.ply'), ply2)\n",
    "evaluation = evaluate_align(ply2, ply1)\n",
    "print(evaluation)"
   ]
  },
  {
   "cell_type": "markdown",
   "metadata": {},
   "source": [
    "## Part 2"
   ]
  },
  {
   "cell_type": "code",
   "execution_count": 37,
   "metadata": {},
   "outputs": [],
   "source": [
    "def rotate_and_save(mesh_fp, angle, mesh_save_fp):\n",
    "    # about z-axis\n",
    "    ply = o3d.io.read_triangle_mesh(mesh_fp)\n",
    "    R = np.array([\n",
    "        [np.cos(angle), -np.sin(angle), 0.],\n",
    "        [np.sin(angle),  np.cos(angle), 0.],\n",
    "        [           0.,             0., 1.]\n",
    "    ])\n",
    "    ply = ply.rotate(R)\n",
    "    o3d.io.write_triangle_mesh(mesh_save_fp, ply)"
   ]
  },
  {
   "cell_type": "code",
   "execution_count": 52,
   "metadata": {},
   "outputs": [
    {
     "name": "stdout",
     "output_type": "stream",
     "text": [
      "Aligned after 56 iteration(s)\n",
      "Rotate angle: 15\n",
      "RegistrationResult with fitness=6.733655e-01, inlier_rmse=6.000630e-04, and correspondence_set size of 27107\n",
      "Access transformation to get result.\n",
      "Aligned after 131 iteration(s)\n",
      "Rotate angle: 30\n",
      "RegistrationResult with fitness=1.000000e+00, inlier_rmse=3.700896e-04, and correspondence_set size of 40256\n",
      "Access transformation to get result.\n",
      "Aligned after 155 iteration(s)\n",
      "Rotate angle: 45\n",
      "RegistrationResult with fitness=1.000000e+00, inlier_rmse=3.497827e-04, and correspondence_set size of 40256\n",
      "Access transformation to get result.\n",
      "Aligned after 239 iteration(s)\n",
      "Rotate angle: 60\n",
      "RegistrationResult with fitness=1.000000e+00, inlier_rmse=3.451478e-04, and correspondence_set size of 40256\n",
      "Access transformation to get result.\n",
      "Aligned after 96 iteration(s)\n",
      "Rotate angle: 75\n",
      "RegistrationResult with fitness=1.583863e-01, inlier_rmse=6.150426e-04, and correspondence_set size of 6376\n",
      "Access transformation to get result.\n",
      "Aligned after 70 iteration(s)\n",
      "Rotate angle: 90\n",
      "RegistrationResult with fitness=1.299434e-01, inlier_rmse=6.001562e-04, and correspondence_set size of 5231\n",
      "Access transformation to get result.\n",
      "Aligned after 71 iteration(s)\n",
      "Rotate angle: 105\n",
      "RegistrationResult with fitness=1.257452e-01, inlier_rmse=6.175940e-04, and correspondence_set size of 5062\n",
      "Access transformation to get result.\n",
      "Aligned after 96 iteration(s)\n",
      "Rotate angle: 120\n",
      "RegistrationResult with fitness=6.746820e-02, inlier_rmse=6.311351e-04, and correspondence_set size of 2716\n",
      "Access transformation to get result.\n",
      "Aligned after 123 iteration(s)\n",
      "Rotate angle: 135\n",
      "RegistrationResult with fitness=6.540640e-02, inlier_rmse=6.197867e-04, and correspondence_set size of 2633\n",
      "Access transformation to get result.\n",
      "Aligned after 157 iteration(s)\n",
      "Rotate angle: 150\n",
      "RegistrationResult with fitness=5.621522e-02, inlier_rmse=6.407853e-04, and correspondence_set size of 2263\n",
      "Access transformation to get result.\n",
      "Aligned after 96 iteration(s)\n",
      "Rotate angle: 165\n",
      "RegistrationResult with fitness=5.705982e-02, inlier_rmse=6.392550e-04, and correspondence_set size of 2297\n",
      "Access transformation to get result.\n",
      "Aligned after 94 iteration(s)\n",
      "Rotate angle: 180\n",
      "RegistrationResult with fitness=6.538156e-02, inlier_rmse=6.459981e-04, and correspondence_set size of 2632\n",
      "Access transformation to get result.\n"
     ]
    }
   ],
   "source": [
    "rotate_angle_about_z = np.array([1, 2, 3, 4, 5, 6, 7, 8, 9, 10, 11, 12]) / 12 * np.pi\n",
    "mesh_dir_fp = 'bunny_v2'\n",
    "mesh_origin_fn = 'bun000_v2.ply'\n",
    "for angle in rotate_angle_about_z:\n",
    "    angle_to_degree = int(round(180 * angle / np.pi))\n",
    "    mesh_after_rotation_fn = 'bun000_v2_rotate_z_%d.ply' % angle_to_degree\n",
    "    mesh1_fp = os.path.join(mesh_dir_fp, mesh_origin_fn)\n",
    "    mesh2_fp = os.path.join(mesh_dir_fp, mesh_after_rotation_fn)\n",
    "    rotate_and_save(mesh1_fp, angle, mesh2_fp)\n",
    "    print('Rotate angle: %d' % angle_to_degree)\n",
    "    ply1, ply2 = icp(mesh1_fp, mesh2_fp)\n",
    "    evaluation = evaluate_align(ply2, ply1)\n",
    "    print(evaluation)"
   ]
  },
  {
   "cell_type": "markdown",
   "metadata": {},
   "source": [
    "## Part 3"
   ]
  },
  {
   "cell_type": "code",
   "execution_count": 40,
   "metadata": {},
   "outputs": [],
   "source": [
    "def perturb_and_save(mesh_fp, sigma, mesh_save_fp):\n",
    "    # about z-axis\n",
    "    ply = o3d.io.read_triangle_mesh(mesh_fp)\n",
    "    points = np.asarray(ply.vertices)\n",
    "    noises = np.random.normal(0, sigma, points.shape)\n",
    "    ply.vertices = o3d.utility.Vector3dVector(points + noises)\n",
    "    o3d.io.write_triangle_mesh(mesh_save_fp, ply)"
   ]
  },
  {
   "cell_type": "code",
   "execution_count": 57,
   "metadata": {},
   "outputs": [
    {
     "name": "stdout",
     "output_type": "stream",
     "text": [
      "Possible to be aligned after 0 iteration(s).\n",
      "Sigma: 0.000010\n",
      "RegistrationResult with fitness=1.000000e+00, inlier_rmse=1.736090e-05, and correspondence_set size of 40256\n",
      "Access transformation to get result.\n",
      "Possible to be aligned after 0 iteration(s).\n",
      "Sigma: 0.000100\n",
      "RegistrationResult with fitness=1.000000e+00, inlier_rmse=1.721553e-04, and correspondence_set size of 40256\n",
      "Access transformation to get result.\n",
      "Possible to be aligned after 0 iteration(s).\n",
      "Sigma: 0.000200\n",
      "RegistrationResult with fitness=9.999752e-01, inlier_rmse=3.162387e-04, and correspondence_set size of 40255\n",
      "Access transformation to get result.\n",
      "Possible to be aligned after 0 iteration(s).\n",
      "Sigma: 0.000300\n",
      "RegistrationResult with fitness=9.985095e-01, inlier_rmse=4.151332e-04, and correspondence_set size of 40196\n",
      "Access transformation to get result.\n",
      "Possible to be aligned after 0 iteration(s).\n",
      "Sigma: 0.000400\n",
      "RegistrationResult with fitness=9.812699e-01, inlier_rmse=4.835950e-04, and correspondence_set size of 39502\n",
      "Access transformation to get result.\n",
      "Possible to be aligned after 0 iteration(s).\n",
      "Sigma: 0.000500\n",
      "RegistrationResult with fitness=9.394624e-01, inlier_rmse=5.275464e-04, and correspondence_set size of 37819\n",
      "Access transformation to get result.\n",
      "Possible to be aligned after 0 iteration(s).\n",
      "Sigma: 0.000600\n",
      "RegistrationResult with fitness=8.817319e-01, inlier_rmse=5.551067e-04, and correspondence_set size of 35495\n",
      "Access transformation to get result.\n",
      "Possible to be aligned after 0 iteration(s).\n",
      "Sigma: 0.000700\n",
      "RegistrationResult with fitness=8.210702e-01, inlier_rmse=5.731311e-04, and correspondence_set size of 33053\n",
      "Access transformation to get result.\n",
      "Possible to be aligned after 1 iteration(s).\n",
      "Sigma: 0.000800\n",
      "RegistrationResult with fitness=7.549185e-01, inlier_rmse=5.884616e-04, and correspondence_set size of 30390\n",
      "Access transformation to get result.\n",
      "Possible to be aligned after 0 iteration(s).\n",
      "Sigma: 0.000900\n",
      "RegistrationResult with fitness=7.054849e-01, inlier_rmse=5.933696e-04, and correspondence_set size of 28400\n",
      "Access transformation to get result.\n",
      "Possible to be aligned after 0 iteration(s).\n",
      "Sigma: 0.001000\n",
      "RegistrationResult with fitness=6.512570e-01, inlier_rmse=6.029692e-04, and correspondence_set size of 26217\n",
      "Access transformation to get result.\n",
      "Possible to be aligned after 1 iteration(s).\n",
      "Sigma: 0.002000\n",
      "RegistrationResult with fitness=3.590272e-01, inlier_rmse=6.194559e-04, and correspondence_set size of 14453\n",
      "Access transformation to get result.\n",
      "Possible to be aligned after 4 iteration(s).\n",
      "Sigma: 0.003000\n",
      "RegistrationResult with fitness=2.451560e-01, inlier_rmse=6.268999e-04, and correspondence_set size of 9869\n",
      "Access transformation to get result.\n",
      "Possible to be aligned after 15 iteration(s).\n",
      "Sigma: 0.004000\n",
      "RegistrationResult with fitness=1.817120e-01, inlier_rmse=6.312720e-04, and correspondence_set size of 7315\n",
      "Access transformation to get result.\n",
      "Possible to be aligned after 28 iteration(s).\n",
      "Sigma: 0.005000\n",
      "RegistrationResult with fitness=1.470588e-01, inlier_rmse=6.305630e-04, and correspondence_set size of 5920\n",
      "Access transformation to get result.\n",
      "Possible to be aligned after 114 iteration(s).\n",
      "Sigma: 0.010000\n",
      "RegistrationResult with fitness=7.072238e-02, inlier_rmse=6.316775e-04, and correspondence_set size of 2847\n",
      "Access transformation to get result.\n",
      "ICP stopped after max iteration number 300.\n",
      "Sigma: 0.050000\n",
      "RegistrationResult with fitness=8.768879e-03, inlier_rmse=6.383611e-04, and correspondence_set size of 353\n",
      "Access transformation to get result.\n",
      "ICP stopped after max iteration number 300.\n",
      "Sigma: 0.100000\n",
      "RegistrationResult with fitness=1.639507e-03, inlier_rmse=6.114395e-04, and correspondence_set size of 66\n",
      "Access transformation to get result.\n"
     ]
    }
   ],
   "source": [
    "noise_sigmas = np.array([1e-5, \n",
    "                         1e-4, 2e-4, 3e-4, 4e-4, 5e-4, 6e-4, 7e-4, 8e-4, 9e-4,\n",
    "                         1e-3, 2e-3, 3e-3, 4e-3, 5e-3, \n",
    "                         1e-2, 5e-2, 1e-1])\n",
    "mesh_dir_fp = 'bunny_v2'\n",
    "mesh_origin_fn = 'bun000_v2.ply'\n",
    "for sigma in noise_sigmas:\n",
    "    mesh_after_perturb = 'bun000_v2_perturb_%.6f.ply' % sigma\n",
    "    mesh1_fp = os.path.join(mesh_dir_fp, mesh_origin_fn)\n",
    "    mesh2_fp = os.path.join(mesh_dir_fp, mesh_after_perturb)\n",
    "    perturb_and_save(mesh1_fp, sigma, mesh2_fp)\n",
    "    print('Sigma: %.6f' % sigma)\n",
    "    ply1, ply2 = icp(mesh1_fp, mesh2_fp)\n",
    "    evaluation = evaluate_align(ply2, ply1)\n",
    "    print(evaluation)"
   ]
  },
  {
   "cell_type": "markdown",
   "metadata": {},
   "source": [
    "## Part 4"
   ]
  },
  {
   "cell_type": "code",
   "execution_count": 66,
   "metadata": {},
   "outputs": [
    {
     "name": "stdout",
     "output_type": "stream",
     "text": [
      "Sample number: 4.\n",
      "Possible to be aligned after 290 iteration(s).\n",
      "RegistrationResult with fitness=9.666559e-02, inlier_rmse=6.170610e-04, and correspondence_set size of 3876\n",
      "Access transformation to get result.\n",
      "Sample number: 8.\n",
      "Possible to be aligned after 233 iteration(s).\n",
      "RegistrationResult with fitness=1.041225e-01, inlier_rmse=6.405994e-04, and correspondence_set size of 4175\n",
      "Access transformation to get result.\n",
      "Sample number: 16.\n",
      "Possible to be aligned after 172 iteration(s).\n",
      "RegistrationResult with fitness=8.841060e-02, inlier_rmse=6.493703e-04, and correspondence_set size of 3545\n",
      "Access transformation to get result.\n",
      "Sample number: 24.\n",
      "ICP stopped after max iteration number 300.\n",
      "RegistrationResult with fitness=3.215203e-01, inlier_rmse=6.258156e-04, and correspondence_set size of 12892\n",
      "Access transformation to get result.\n",
      "Sample number: 32.\n",
      "Possible to be aligned after 33 iteration(s).\n",
      "RegistrationResult with fitness=3.698032e-01, inlier_rmse=6.146695e-04, and correspondence_set size of 14828\n",
      "Access transformation to get result.\n",
      "Sample number: 40.\n",
      "Possible to be aligned after 52 iteration(s).\n",
      "RegistrationResult with fitness=5.183680e-01, inlier_rmse=6.330686e-04, and correspondence_set size of 20785\n",
      "Access transformation to get result.\n",
      "Sample number: 80.\n",
      "Possible to be aligned after 53 iteration(s).\n",
      "RegistrationResult with fitness=6.282764e-01, inlier_rmse=5.946324e-04, and correspondence_set size of 25192\n",
      "Access transformation to get result.\n",
      "Sample number: 160.\n",
      "Possible to be aligned after 56 iteration(s).\n",
      "RegistrationResult with fitness=8.956032e-01, inlier_rmse=4.554353e-04, and correspondence_set size of 35911\n",
      "Access transformation to get result.\n",
      "Sample number: 240.\n",
      "Possible to be aligned after 66 iteration(s).\n",
      "RegistrationResult with fitness=9.132105e-01, inlier_rmse=4.269026e-04, and correspondence_set size of 36617\n",
      "Access transformation to get result.\n",
      "Sample number: 320.\n",
      "Possible to be aligned after 58 iteration(s).\n",
      "RegistrationResult with fitness=6.641395e-01, inlier_rmse=5.878455e-04, and correspondence_set size of 26630\n",
      "Access transformation to get result.\n",
      "Sample number: 400.\n",
      "Possible to be aligned after 75 iteration(s).\n",
      "RegistrationResult with fitness=9.150061e-01, inlier_rmse=4.022248e-04, and correspondence_set size of 36689\n",
      "Access transformation to get result.\n",
      "Sample number: 801.\n",
      "Possible to be aligned after 60 iteration(s).\n",
      "RegistrationResult with fitness=9.147567e-01, inlier_rmse=3.652518e-04, and correspondence_set size of 36679\n",
      "Access transformation to get result.\n",
      "Sample number: 1603.\n",
      "Possible to be aligned after 61 iteration(s).\n",
      "RegistrationResult with fitness=9.148814e-01, inlier_rmse=3.601215e-04, and correspondence_set size of 36684\n",
      "Access transformation to get result.\n",
      "Sample number: 2405.\n",
      "Possible to be aligned after 58 iteration(s).\n",
      "RegistrationResult with fitness=9.154800e-01, inlier_rmse=3.594418e-04, and correspondence_set size of 36708\n",
      "Access transformation to get result.\n",
      "Sample number: 3207.\n",
      "Possible to be aligned after 57 iteration(s).\n",
      "RegistrationResult with fitness=9.151308e-01, inlier_rmse=3.655996e-04, and correspondence_set size of 36694\n",
      "Access transformation to get result.\n",
      "Sample number: 4009.\n",
      "Possible to be aligned after 59 iteration(s).\n",
      "RegistrationResult with fitness=9.152555e-01, inlier_rmse=3.595318e-04, and correspondence_set size of 36699\n",
      "Access transformation to get result.\n",
      "Sample number: 12029.\n",
      "Possible to be aligned after 58 iteration(s).\n",
      "RegistrationResult with fitness=9.155049e-01, inlier_rmse=3.610898e-04, and correspondence_set size of 36709\n",
      "Access transformation to get result.\n",
      "Sample number: 20048.\n",
      "Possible to be aligned after 58 iteration(s).\n",
      "RegistrationResult with fitness=9.155797e-01, inlier_rmse=3.616345e-04, and correspondence_set size of 36712\n",
      "Access transformation to get result.\n",
      "Sample number: 40097.\n",
      "Possible to be aligned after 58 iteration(s).\n",
      "RegistrationResult with fitness=9.153802e-01, inlier_rmse=3.609055e-04, and correspondence_set size of 36704\n",
      "Access transformation to get result.\n"
     ]
    }
   ],
   "source": [
    "mesh1_fp = os.path.join('bunny_v2', 'bun000_v2.ply')\n",
    "mesh2_fp = os.path.join('bunny_v2', 'bun045_v2.ply')\n",
    "\n",
    "ply2 = o3d.io.read_triangle_mesh(mesh2_fp)\n",
    "points2 = np.asarray(ply2.vertices)\n",
    "pts2_number = points2.shape[0]\n",
    "sample_numbers = (np.array([1e-4, 2e-4, 4e-4, 6e-4, 8e-4,\n",
    "                            1e-3, 2e-3, 4e-3, 6e-3, 8e-3,\n",
    "                            1e-2, 2e-2, 4e-2, 6e-2, 8e-2,\n",
    "                            1e-1, 3e-1, 5e-1, 1]) * pts2_number).astype(np.int64)\n",
    "\n",
    "for sample_number in sample_numbers:\n",
    "    print(\"Sample number: %d.\" % sample_number)\n",
    "    ply1, ply2 = icp(mesh1_fp, mesh2_fp, 1e-3, None, 300, sample_number)\n",
    "    evaluation = evaluate_align(ply2, ply1)\n",
    "    print(evaluation)"
   ]
  },
  {
   "cell_type": "markdown",
   "metadata": {},
   "source": [
    "## Part 5"
   ]
  },
  {
   "cell_type": "code",
   "execution_count": 12,
   "metadata": {},
   "outputs": [],
   "source": [
    "def convert_pts_to_ptc(pts):\n",
    "    pts_o3d = o3d.geometry.PointCloud()\n",
    "    pts_o3d.points = o3d.utility.Vector3dVector(pts)\n",
    "    return pts_o3d"
   ]
  },
  {
   "cell_type": "code",
   "execution_count": 13,
   "metadata": {},
   "outputs": [],
   "source": [
    "def preprocess_point_cloud(pcd_down, voxel_size):\n",
    "    radius_normal = voxel_size * 2\n",
    "    pcd_down.estimate_normals(o3d.geometry.KDTreeSearchParamHybrid(radius=radius_normal, max_nn=30))\n",
    "    radius_feature = voxel_size * 5\n",
    "    pcd_fpfh = o3d.pipelines.registration.compute_fpfh_feature(pcd_down, o3d.geometry.KDTreeSearchParamHybrid(radius=radius_feature, max_nn=100))\n",
    "    return pcd_fpfh"
   ]
  },
  {
   "cell_type": "code",
   "execution_count": 14,
   "metadata": {},
   "outputs": [],
   "source": [
    "def prepare_dataset(voxel_size, mesh1_fp, mesh2_fp):\n",
    "    ply1 = o3d.io.read_triangle_mesh(mesh1_fp)\n",
    "    ply2 = o3d.io.read_triangle_mesh(mesh2_fp)\n",
    "    source_down = convert_pts_to_ptc(uniform_sample(ply2, 10000))\n",
    "    target_down = convert_pts_to_ptc(uniform_sample(ply1, 10000))\n",
    "\n",
    "    source_fpfh = preprocess_point_cloud(source_down, voxel_size)\n",
    "    target_fpfh = preprocess_point_cloud(target_down, voxel_size)\n",
    "    return source_down, target_down, source_fpfh, target_fpfh"
   ]
  },
  {
   "cell_type": "code",
   "execution_count": 15,
   "metadata": {},
   "outputs": [],
   "source": [
    "def execute_fast_global_registration(source_down, target_down, source_fpfh,\n",
    "                                     target_fpfh, voxel_size):\n",
    "    distance_threshold = voxel_size * 0.5\n",
    "    result = o3d.pipelines.registration.registration_fgr_based_on_feature_matching(\n",
    "        source_down, target_down, source_fpfh, target_fpfh,\n",
    "        o3d.pipelines.registration.FastGlobalRegistrationOption(\n",
    "            maximum_correspondence_distance=distance_threshold))\n",
    "    return result"
   ]
  },
  {
   "cell_type": "code",
   "execution_count": 16,
   "metadata": {},
   "outputs": [
    {
     "name": "stdout",
     "output_type": "stream",
     "text": [
      "[[ 7.14326914e-01 -1.59166643e-02 -6.99631131e-01 -7.27325135e-03]\n",
      " [ 2.18547847e-02  9.99761063e-01 -4.30798926e-04  1.43345993e-04]\n",
      " [ 6.99470820e-01 -1.49825565e-02  7.14504090e-01 -1.30069892e-02]\n",
      " [-0.00000000e+00  0.00000000e+00 -0.00000000e+00  1.00000000e+00]]\n"
     ]
    }
   ],
   "source": [
    "mesh1_fp = os.path.join('bunny_v2', 'bun000_v2.ply')\n",
    "mesh2_fp = os.path.join('bunny_v2', 'bun315_v2.ply')\n",
    "voxel_size = 0.005\n",
    "source_down, target_down, source_fpfh, target_fpfh = prepare_dataset(voxel_size, mesh1_fp, mesh2_fp)\n",
    "result = execute_fast_global_registration(source_down, target_down, source_fpfh, target_fpfh, voxel_size)\n",
    "print(result.transformation)"
   ]
  },
  {
   "cell_type": "code",
   "execution_count": 17,
   "metadata": {},
   "outputs": [
    {
     "name": "stdout",
     "output_type": "stream",
     "text": [
      "RegistrationResult with fitness=7.965531e-01, inlier_rmse=4.125364e-04, and correspondence_set size of 28147\n",
      "Access transformation to get result.\n"
     ]
    }
   ],
   "source": [
    "ply1, ply2 = icp(mesh1_fp, mesh2_fp, 5e-4, result.transformation)\n",
    "o3d.io.write_triangle_mesh(os.path.join('bunny_v2', 'bun000_v2_paint315.ply'), ply1)\n",
    "o3d.io.write_triangle_mesh(os.path.join('bunny_v2', 'bun315_v2_reg_paint.ply'), ply2)\n",
    "evaluation = evaluate_align(ply2, ply1)\n",
    "print(evaluation)"
   ]
  },
  {
   "cell_type": "markdown",
   "metadata": {},
   "source": [
    "## Part 6"
   ]
  },
  {
   "cell_type": "code",
   "execution_count": 18,
   "metadata": {},
   "outputs": [],
   "source": [
    "def ptpl_match_points(sampled_pts, mesh_pts, n):\n",
    "    n_pts, dim = sampled_pts.shape\n",
    "    tree = KDTree(mesh_pts, leaf_size=2)\n",
    "    dist, idx = tree.query(sampled_pts, k=1)\n",
    "    return dist.reshape((n_pts,)), mesh_pts[idx].reshape((n_pts, dim)), n[idx].reshape((n_pts, dim))"
   ]
  },
  {
   "cell_type": "code",
   "execution_count": 19,
   "metadata": {},
   "outputs": [],
   "source": [
    "def ptpl_reject_pairs(p, q, dist, n):\n",
    "    med = np.median(dist)\n",
    "    idx = np.where(dist < 2. * med)\n",
    "    return p[idx], q[idx], n[idx]"
   ]
  },
  {
   "cell_type": "code",
   "execution_count": 31,
   "metadata": {},
   "outputs": [],
   "source": [
    "def ptpl_solve_Rt(p, q, n_p):\n",
    "    a = np.cross(q, n_p)\n",
    "    A = np.hstack((a, n_p))\n",
    "    b = np.sum(n_p * p - n_p * q, axis=1)\n",
    "    \n",
    "    u, s, vh = np.linalg.svd(A, full_matrices=False)\n",
    "    Aplus = vh.T @ np.linalg.pinv(np.diag(s)) @ u.T\n",
    "    # x = (np.linalg.pinv(A.T @ A) @ A.T @ b).reshape((6,))\n",
    "    alpha, beta, gamma, tx, ty, tz = b @ Aplus.T\n",
    "\n",
    "    R = np.array([\n",
    "        [1., -gamma, beta],\n",
    "        [gamma, 1., -alpha],\n",
    "        [-beta, alpha, 1.]\n",
    "    ])\n",
    "    t = np.array([tx, ty, tz])\n",
    "    return R, t"
   ]
  },
  {
   "cell_type": "code",
   "execution_count": 34,
   "metadata": {},
   "outputs": [],
   "source": [
    "def ptpl_icp(mesh1_fp, mesh2_fp, tl=5e-4):\n",
    "    # mesh2 to mesh1\n",
    "\n",
    "    ply1 = o3d.io.read_triangle_mesh(mesh1_fp)\n",
    "    ply2 = o3d.io.read_triangle_mesh(mesh2_fp)\n",
    "\n",
    "    ply1 = ply1.compute_vertex_normals()\n",
    "    n_p = np.asarray(ply1.vertex_normals)\n",
    "\n",
    "    E = np.array([\n",
    "        [1., 0., 0.],\n",
    "        [0., 1., 0.],\n",
    "        [0., 0., 1.],\n",
    "    ])\n",
    "\n",
    "    while True:\n",
    "    \n",
    "        points1 = np.asarray(ply1.vertices)\n",
    "        sampled_points2 = uniform_sample(ply2)\n",
    "        \n",
    "        dist, corr_points1, n = ptpl_match_points(sampled_points2, points1, n_p)\n",
    "        p, q, n = ptpl_reject_pairs(corr_points1, sampled_points2, dist, n_p)\n",
    "        R, t = ptpl_solve_Rt(p, q, n)\n",
    "\n",
    "        if np.linalg.norm(E - R) < tl:\n",
    "            ply1, ply2 = paint_overlap(ply1, ply2)\n",
    "            return ply1, ply2\n",
    "\n",
    "        ply2 = ply2.rotate(R)\n",
    "        ply2 = ply2.translate(t)\n"
   ]
  },
  {
   "cell_type": "code",
   "execution_count": 36,
   "metadata": {},
   "outputs": [
    {
     "name": "stdout",
     "output_type": "stream",
     "text": [
      "RegistrationResult with fitness=5.585705e-01, inlier_rmse=5.670052e-04, and correspondence_set size of 22397\n",
      "Access transformation to get result.\n"
     ]
    }
   ],
   "source": [
    "mesh1_fp = os.path.join('bunny_v2', 'bun000_v2.ply')\n",
    "mesh2_fp = os.path.join('bunny_v2', 'bun045_v2.ply')\n",
    "ply1, ply2 = ptpl_icp(mesh1_fp, mesh2_fp)\n",
    "o3d.io.write_triangle_mesh(os.path.join('bunny_v2', 'bun000_v2_ptpl_paint045.ply'), ply1)\n",
    "o3d.io.write_triangle_mesh(os.path.join('bunny_v2', 'bun045_v2_ptpl_reg_paint.ply'), ply2)\n",
    "evaluation = evaluate_align(ply2, ply1)\n",
    "print(evaluation)"
   ]
  }
 ],
 "metadata": {
  "kernelspec": {
   "display_name": "Python 3.9.15",
   "language": "python",
   "name": "python3"
  },
  "language_info": {
   "codemirror_mode": {
    "name": "ipython",
    "version": 3
   },
   "file_extension": ".py",
   "mimetype": "text/x-python",
   "name": "python",
   "nbconvert_exporter": "python",
   "pygments_lexer": "ipython3",
   "version": "3.9.15"
  },
  "orig_nbformat": 4,
  "vscode": {
   "interpreter": {
    "hash": "82278f97a5e708b4389ce34955b3a62a6bf40296134f1eeb2b00e0e6706f3d90"
   }
  }
 },
 "nbformat": 4,
 "nbformat_minor": 2
}
